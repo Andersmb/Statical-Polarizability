{
 "cells": [
  {
   "cell_type": "code",
   "execution_count": 9,
   "metadata": {},
   "outputs": [],
   "source": [
    "import yaml\n",
    "import os, sys\n",
    "sys.path.insert(0,'../')\n",
    "import Routines as R"
   ]
  },
  {
   "cell_type": "markdown",
   "metadata": {},
   "source": [
    "# Construction of the dataset"
   ]
  },
  {
   "cell_type": "markdown",
   "metadata": {},
   "source": [
    "The aim of this notebook is to build a dictionary that collect all the information needed to compute the statical polarizability (for all the chose psp's) for the HG dataset.\n",
    "\n",
    "To achieve this task we split the hg dataset into two parts according the sp or nsp nature of the computation. Then we associate to each molecule a set of study (i.e. a choice of xc and psp). The study is processed with the single study workflow previously defined. "
   ]
  },
  {
   "cell_type": "code",
   "execution_count": 24,
   "metadata": {},
   "outputs": [],
   "source": [
    "hg_dataset = yaml.load(open('../HG Dataset/hg_data.yaml'))\n",
    "#hg_dataset"
   ]
  },
  {
   "cell_type": "markdown",
   "metadata": {},
   "source": [
    "## Construction of the nsp_dataset"
   ]
  },
  {
   "cell_type": "markdown",
   "metadata": {},
   "source": [
    "We build the nsp_dataset that contain all the molecules associated to a spin_pol = nsp.\n",
    "\n",
    "This dictionary contains also the reference results extracted from the hg_dataset and a key 'study' that specifies\n",
    "all the couples xc,psp associated to each molecule of the dataset."
   ]
  },
  {
   "cell_type": "code",
   "execution_count": 28,
   "metadata": {},
   "outputs": [],
   "source": [
    "# CHECK IF LDA-SPW92 IS THE RIGHT CHOICE !!!!!\n",
    "nsp_dataset = {}\n",
    "for mol,data in hg_dataset.iteritems():\n",
    "    if data['spin_pol'] == 'nsp':\n",
    "        ref_results = {'lda' : data['lda-SPW92'], 'pbe' : data['pbe'], 'pbe0' : data['pbe0']}\n",
    "        nsp_dataset[mol] = {'ref_results' : ref_results}"
   ]
  },
  {
   "cell_type": "code",
   "execution_count": 29,
   "metadata": {},
   "outputs": [
    {
     "name": "stdout",
     "output_type": "stream",
     "text": [
      "number of nsp molecules =  75\n"
     ]
    }
   ],
   "source": [
    "print 'number of nsp molecules = ', len(nsp_dataset.keys())"
   ]
  },
  {
   "cell_type": "code",
   "execution_count": 30,
   "metadata": {},
   "outputs": [
    {
     "data": {
      "text/plain": [
       "{'ref_results': {'lda': [6.154, 6.154, 5.59],\n",
       "  'pbe': [6.292, 6.292, 5.656],\n",
       "  'pbe0': [6.248, 6.248, 5.378]}}"
      ]
     },
     "execution_count": 30,
     "metadata": {},
     "output_type": "execute_result"
    }
   ],
   "source": [
    "# for instance\n",
    "nsp_dataset['AlF']"
   ]
  },
  {
   "cell_type": "markdown",
   "metadata": {},
   "source": [
    "Now we add the key study to the dataset. The possible couple of (xc,psp) are given by:\n",
    "\n",
    "* for xc = lda the psp is hgh-k. This is the default choice performed by BigDFT so no input, apart \n",
    "  from the choice of xc as to be given as input.\n",
    "  \n",
    "* for xc = pbe one possible psp is hgh-k, again this is the default choice of BigDFT.\n",
    "\n",
    "* for xc = pbe0 there is no a default choice of BigDFT. So the information has to be provided in the\n",
    "  input file as follows:\n",
    "  \n",
    "  inp['psppar.atom']={'Pseudopotential XC': 11}\n",
    "\n",
    "* for xc = pbe there is one further choice given by the pbe psp with nlcc. The list of atoms for which this \n",
    "  psp are provided is given in http://bigdft.org/Wiki/index.php?title=NLCC_PBE_psppar. If all the atoms of \n",
    "  a molecule belong to this list this study can be activated.  \n",
    "  \n",
    "  The list of atoms for which nlcc pseudo are given is:\n",
    "  "
   ]
  },
  {
   "cell_type": "code",
   "execution_count": 31,
   "metadata": {},
   "outputs": [],
   "source": [
    "nlcc_psp = ['B','C','N','O','F','Al','Si','P','Cl','H','Mg']"
   ]
  },
  {
   "cell_type": "markdown",
   "metadata": {},
   "source": [
    "where, as stated in the link, H and Mg psp in this list give more accurate nonrelativistic atomization energies than the relativistic Krack pseudopotentials when used in conjunction with the nlcc psp."
   ]
  },
  {
   "cell_type": "markdown",
   "metadata": {},
   "source": [
    "We represent the study field as a list of touple, as follows"
   ]
  },
  {
   "cell_type": "code",
   "execution_count": 49,
   "metadata": {},
   "outputs": [],
   "source": [
    "base_study = [('lda','hgh-k'),('pbe','hgh-k'),('pbe0','hgh-k')]"
   ]
  },
  {
   "cell_type": "code",
   "execution_count": 50,
   "metadata": {},
   "outputs": [],
   "source": [
    "for mol,data in nsp_dataset.iteritems():\n",
    "    if R.molecule_inlist(mol,nlcc_psp):\n",
    "        data['study'] = base_study+[('pbe','nlcc')]\n",
    "    else : \n",
    "        data['study'] = base_study"
   ]
  },
  {
   "cell_type": "code",
   "execution_count": 59,
   "metadata": {},
   "outputs": [],
   "source": [
    "#nsp_dataset"
   ]
  },
  {
   "cell_type": "markdown",
   "metadata": {},
   "source": [
    "Save the dataset as yaml file"
   ]
  },
  {
   "cell_type": "code",
   "execution_count": 56,
   "metadata": {},
   "outputs": [],
   "source": [
    "import yaml\n",
    "with open('nsp_dataset.yaml', 'w') as outfile:\n",
    "    yaml.dump(nsp_dataset, outfile, default_flow_style=False)"
   ]
  },
  {
   "cell_type": "markdown",
   "metadata": {},
   "source": [
    "This dataset can be passed to the 'Dataset calculator' notebook which runs the computations."
   ]
  },
  {
   "cell_type": "markdown",
   "metadata": {},
   "source": [
    "TO BE DONE : "
   ]
  },
  {
   "cell_type": "markdown",
   "metadata": {},
   "source": [
    "Consider also the psp found in \n",
    "\n",
    "http://bigdft.org/Wiki/index.php?title=New_Soft-Accurate_NLCC_pseudopotentials\n",
    "\n",
    "some of these are nlcc while other are not. Do they belong to a differnt class w.r.t the previous ones, should\n",
    "we include all of them?"
   ]
  },
  {
   "cell_type": "code",
   "execution_count": 58,
   "metadata": {},
   "outputs": [],
   "source": [
    "saha_elements = ['H','He','Li','Be','B','C','N','O','F','Ne','Mg','Al','Si','P','Cl','K']\n",
    "# plus other atoms that are not present in the  molecules of the dataset"
   ]
  },
  {
   "cell_type": "markdown",
   "metadata": {},
   "source": [
    "## Construction of the sp_dataset"
   ]
  },
  {
   "cell_type": "markdown",
   "metadata": {},
   "source": [
    "...TO BE DONE:....."
   ]
  },
  {
   "cell_type": "code",
   "execution_count": null,
   "metadata": {},
   "outputs": [],
   "source": []
  },
  {
   "cell_type": "code",
   "execution_count": 53,
   "metadata": {},
   "outputs": [],
   "source": [
    "#####################################################\n",
    "# OLD STUFF"
   ]
  },
  {
   "cell_type": "markdown",
   "metadata": {},
   "source": [
    "We split the HG dataset into two list, according to the nsp or sp character of the associated study"
   ]
  },
  {
   "cell_type": "code",
   "execution_count": 1,
   "metadata": {},
   "outputs": [],
   "source": [
    "nsp_list = ['AlF','Ar','BeH2','BF','BH2Cl','BH2F','BH3','BHF2','C2H2','C2H4','CH2BH','CH3BH2','CH3Cl',\\\n",
    " 'CH3F','CH3NH2','CH3OH','CH3SH','CH4','Cl2','ClCN','ClF','CO','CO2','CS','CSO','FCN','FNO','H',\\\n",
    " 'H2','H2O','HBO','HBS','HCCCl','HCCF','HCHO','HCl','HCN','HCONH2','HCOOH','He','HF','HNC','HOCl',\\\n",
    " 'HOOH','LiBH4','LiCl','LiCN','LiH','Mg','Mg2','N2','N2H4','NaCl','NaCN','NaH','Ne','NH2Cl','NH2F',\\\n",
    " 'NH2OH','NH3','NH3O','OCl2','P2H4','PH2OH','PH3','PH3O','S2H2','SCl2','SF2','SH2','SiH3Cl','SiH3F',\\\n",
    " 'SiH4','SiO','SO2']\n",
    "sp_list = ['Be','BeH','BH2','BN','BO','BS','C2H','C2H3','CH2F','CH2NH','CH2PH','CH2-t','CH3O','F2',\\\n",
    " 'FH-OH','H2CN','H2O-Li','HCHS','HCO','HCP','HNO','HNS','HO2','HOF','Li','Li2','N','N2H2','Na','Na2',\\\n",
    " 'NaLi','NH','NH2','NO','NOCl','NP','O2','O3','OCl','OF','OF2','OH','P','PH','PH2','S2','SCl','SF','SH',\\\n",
    " 'SO-trip','CN','P2','PS','CH3','NCO','FCO','SiH3']"
   ]
  },
  {
   "cell_type": "code",
   "execution_count": 23,
   "metadata": {},
   "outputs": [
    {
     "name": "stdout",
     "output_type": "stream",
     "text": [
      "number of nsp elements :  75\n",
      "number of sp elements :  57\n"
     ]
    }
   ],
   "source": [
    "print 'number of nsp elements : ', len(nsp_list)\n",
    "print 'number of sp elements : ', len(sp_list)"
   ]
  }
 ],
 "metadata": {
  "kernelspec": {
   "display_name": "Python 2",
   "language": "python",
   "name": "python2"
  },
  "language_info": {
   "codemirror_mode": {
    "name": "ipython",
    "version": 2
   },
   "file_extension": ".py",
   "mimetype": "text/x-python",
   "name": "python",
   "nbconvert_exporter": "python",
   "pygments_lexer": "ipython2",
   "version": "2.7.15rc1"
  }
 },
 "nbformat": 4,
 "nbformat_minor": 2
}
