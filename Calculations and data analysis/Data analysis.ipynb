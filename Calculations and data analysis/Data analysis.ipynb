{
 "cells": [
  {
   "cell_type": "code",
   "execution_count": 1,
   "metadata": {},
   "outputs": [
    {
     "name": "stdout",
     "output_type": "stream",
     "text": [
      "Routines basepath : /home/marco/Data/RICERCA/LINEAR RESPONSE/Statical polarizability/Analysis/Calculations and data analysis\n"
     ]
    }
   ],
   "source": [
    "from BigDFT import Datasets as D, Calculators as C, Inputfiles as I, Logfiles as lf\n",
    "from BigDFT.Database import Molecules\n",
    "from futile.Utils import write\n",
    "import numpy as np\n",
    "import matplotlib.pyplot as plt\n",
    "import os, sys, yaml\n",
    "sys.path.insert(0,'../')\n",
    "import StatPol as SP, Routines as R\n",
    "\n",
    "basepath = os.getcwd()"
   ]
  },
  {
   "cell_type": "markdown",
   "metadata": {},
   "source": [
    "## Data analysis"
   ]
  },
  {
   "cell_type": "code",
   "execution_count": 9,
   "metadata": {},
   "outputs": [],
   "source": [
    "nsp_results = yaml.load(open('nsp_results.yaml'))"
   ]
  },
  {
   "cell_type": "code",
   "execution_count": 11,
   "metadata": {},
   "outputs": [],
   "source": [
    "#nsp_results"
   ]
  },
  {
   "cell_type": "code",
   "execution_count": 8,
   "metadata": {},
   "outputs": [
    {
     "name": "stdout",
     "output_type": "stream",
     "text": [
      "N2\n",
      "CO\n",
      "Mg2\n",
      "H2O\n",
      "Mg\n",
      "Ar\n",
      "HCl\n"
     ]
    }
   ],
   "source": [
    "for mol,data in nsp_results.iteritems():\n",
    "    if 'results' in data:\n",
    "        print mol"
   ]
  },
  {
   "cell_type": "code",
   "execution_count": null,
   "metadata": {},
   "outputs": [],
   "source": []
  },
  {
   "cell_type": "code",
   "execution_count": null,
   "metadata": {},
   "outputs": [],
   "source": []
  },
  {
   "cell_type": "code",
   "execution_count": null,
   "metadata": {},
   "outputs": [],
   "source": []
  },
  {
   "cell_type": "code",
   "execution_count": null,
   "metadata": {},
   "outputs": [],
   "source": []
  },
  {
   "cell_type": "code",
   "execution_count": null,
   "metadata": {},
   "outputs": [],
   "source": []
  },
  {
   "cell_type": "code",
   "execution_count": null,
   "metadata": {},
   "outputs": [],
   "source": []
  },
  {
   "cell_type": "code",
   "execution_count": null,
   "metadata": {},
   "outputs": [],
   "source": []
  },
  {
   "cell_type": "code",
   "execution_count": null,
   "metadata": {},
   "outputs": [],
   "source": []
  },
  {
   "cell_type": "code",
   "execution_count": null,
   "metadata": {},
   "outputs": [],
   "source": []
  },
  {
   "cell_type": "code",
   "execution_count": null,
   "metadata": {},
   "outputs": [],
   "source": [
    "################################################################################################"
   ]
  },
  {
   "cell_type": "markdown",
   "metadata": {},
   "source": [
    "We build a table with the (converged) values of the average polarizability for all the studies "
   ]
  },
  {
   "cell_type": "code",
   "execution_count": 5,
   "metadata": {},
   "outputs": [
    {
     "name": "stdout",
     "output_type": "stream",
     "text": [
      "Mg ('lda', 'hgh-k') alpha(AU) = 71.8717 alpha(A) = 10.650 r_conv =  8.0 f_conv =  0.005\n",
      "Mg ('pbe', 'hgh-k') alpha(AU) = 73.4948 alpha(A) = 10.891 r_conv =  8.0 f_conv =  0.005\n",
      "CO ('lda', 'hgh-k') alpha(AU) = 13.7103 alpha(A) = 2.032 r_conv =  6.0 f_conv =  0.01\n",
      "CO ('pbe', 'hgh-k') alpha(AU) = 13.6340 alpha(A) = 2.020 r_conv =  6.0 f_conv =  0.01\n",
      "Ne ('lda', 'hgh-k') alpha(AU) = 3.0331 alpha(A) = 0.449 r_conv =  7.0 f_conv =  0.01\n",
      "Ne ('pbe', 'hgh-k') alpha(AU) = 3.0552 alpha(A) = 0.453 r_conv =  7.0 f_conv =  0.01\n",
      "NaCl ('lda', 'hgh-k') alpha(AU) = 35.5620 alpha(A) = 5.270 r_conv =  7.0 f_conv =  0.001\n",
      "NaCl ('pbe', 'hgh-k') alpha(AU) = 37.1554 alpha(A) = 5.506 r_conv =  7.0 f_conv =  0.001\n",
      "Mg2 ('lda', 'hgh-k') alpha(AU) = 158.0223 alpha(A) = 23.416 r_conv =  7.0 f_conv =  0.001\n",
      "Mg2 ('pbe', 'hgh-k') alpha(AU) = 163.0076 alpha(A) = 24.155 r_conv =  8.0 f_conv =  0.001\n",
      "H2O ('lda', 'hgh-k') alpha(AU) = 10.5996 alpha(A) = 1.571 r_conv =  6.0 f_conv =  0.01\n",
      "H2O ('pbe', 'hgh-k') alpha(AU) = 10.5653 alpha(A) = 1.566 r_conv =  6.0 f_conv =  0.01\n",
      "Ar ('lda', 'hgh-k') alpha(AU) = 11.9710 alpha(A) = 1.774 r_conv =  7.0 f_conv =  0.01\n",
      "Ar ('pbe', 'hgh-k') alpha(AU) = 11.9008 alpha(A) = 1.764 r_conv =  7.0 f_conv =  0.01\n",
      "CH4 ('lda', 'hgh-k') alpha(AU) = 17.6507 alpha(A) = 2.616 r_conv =  5.0 f_conv =  0.01\n",
      "CH4 ('pbe', 'hgh-k') alpha(AU) = 17.3204 alpha(A) = 2.567 r_conv =  5.0 f_conv =  0.01\n",
      "N2 ('lda', 'hgh-k') alpha(AU) = 12.2440 alpha(A) = 1.814 r_conv =  6.0 f_conv =  0.01\n",
      "N2 ('pbe', 'hgh-k') alpha(AU) = 12.2215 alpha(A) = 1.811 r_conv =  6.0 f_conv =  0.01\n",
      "HF ('lda', 'hgh-k') alpha(AU) = 6.2226 alpha(A) = 0.922 r_conv =  6.0 f_conv =  0.01\n",
      "HF ('pbe', 'hgh-k') alpha(AU) = 6.2432 alpha(A) = 0.925 r_conv =  6.0 f_conv =  0.01\n",
      "HCl ('lda', 'hgh-k') alpha(AU) = 18.6543 alpha(A) = 2.764 r_conv =  7.0 f_conv =  0.01\n",
      "HCl ('pbe', 'hgh-k') alpha(AU) = 18.5498 alpha(A) = 2.749 r_conv =  8.0 f_conv =  0.01\n",
      "He ('lda', 'hgh-k') alpha(AU) = 1.6505 alpha(A) = 0.245 r_conv =  7.0 f_conv =  0.01\n",
      "He ('pbe', 'hgh-k') alpha(AU) = 1.5764 alpha(A) = 0.234 r_conv =  7.0 f_conv =  0.01\n"
     ]
    }
   ],
   "source": [
    "AuToA = 0.5291772085**3\n",
    "for mol,val in set.iteritems():\n",
    "    for par in val:\n",
    "        f_conv = val[par]['field_conv']['converged_value']\n",
    "        r_conv = val[par]['rmult_conv']['converged_value']\n",
    "        alpha = val[par]['rmult_conv']['results'][r_conv]\n",
    "        alpha_avg = SP.eval_alpha_avg(alpha)\n",
    "        print mol, par, 'alpha(AU) =',\"{:5.4f}\".format(alpha_avg),\\\n",
    "        'alpha(A) =',\"{:4.3f}\".format(alpha_avg*AuToA), 'r_conv = ', r_conv, 'f_conv = ', f_conv\n",
    "    "
   ]
  },
  {
   "cell_type": "code",
   "execution_count": null,
   "metadata": {},
   "outputs": [],
   "source": []
  },
  {
   "cell_type": "code",
   "execution_count": null,
   "metadata": {},
   "outputs": [],
   "source": []
  }
 ],
 "metadata": {
  "kernelspec": {
   "display_name": "Python 2",
   "language": "python",
   "name": "python2"
  },
  "language_info": {
   "codemirror_mode": {
    "name": "ipython",
    "version": 2
   },
   "file_extension": ".py",
   "mimetype": "text/x-python",
   "name": "python",
   "nbconvert_exporter": "python",
   "pygments_lexer": "ipython2",
   "version": "2.7.15rc1"
  }
 },
 "nbformat": 4,
 "nbformat_minor": 2
}
