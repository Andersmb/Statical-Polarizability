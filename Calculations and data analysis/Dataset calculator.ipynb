{
 "cells": [
  {
   "cell_type": "code",
   "execution_count": 1,
   "metadata": {},
   "outputs": [
    {
     "name": "stdout",
     "output_type": "stream",
     "text": [
      "Routines basepath : /home/marco/Data/RICERCA/LINEAR RESPONSE/Statical polarizability/Analysis/Calculations and data analysis\n"
     ]
    }
   ],
   "source": [
    "from BigDFT import Datasets as D, Calculators as C, Inputfiles as I, Logfiles as lf\n",
    "from BigDFT.Database import Molecules\n",
    "from futile.Utils import write\n",
    "import numpy as np\n",
    "import matplotlib.pyplot as plt\n",
    "import os, sys, yaml\n",
    "sys.path.insert(0,'../')\n",
    "import StatPol as SP, Routines as R\n",
    "\n",
    "basepath = os.getcwd()"
   ]
  },
  {
   "cell_type": "markdown",
   "metadata": {},
   "source": [
    "## Analysis of the statical polarizability for the nsp dataset"
   ]
  },
  {
   "cell_type": "markdown",
   "metadata": {},
   "source": [
    "We import the nsp_dataset"
   ]
  },
  {
   "cell_type": "code",
   "execution_count": 2,
   "metadata": {},
   "outputs": [],
   "source": [
    "nsp_dataset = yaml.load(open('nsp_dataset.yaml'))\n",
    "#nsp_dataset"
   ]
  },
  {
   "cell_type": "markdown",
   "metadata": {},
   "source": [
    "For testing and computation purposes we split the dataset into several subset made of\n",
    "10 molecules each (molecules are sorted in alphabetical order before the splitting). So we have\n",
    "8 subsets (the last one with 5 molecules)"
   ]
  },
  {
   "cell_type": "code",
   "execution_count": 3,
   "metadata": {},
   "outputs": [
    {
     "name": "stdout",
     "output_type": "stream",
     "text": [
      "number of nsp elements  75\n"
     ]
    }
   ],
   "source": [
    "molecules = nsp_dataset.keys()\n",
    "molecules.sort()\n",
    "print 'number of nsp elements ', len(molecules)\n",
    "subset_length = 10\n",
    "\n",
    "subset = {}\n",
    "for ind in range(int(len(molecules)/subset_length)+1):\n",
    "    subset[ind] = []\n",
    "\n",
    "for ind,mol in enumerate(molecules):\n",
    "    subset[int(ind/subset_length)].append(mol)"
   ]
  },
  {
   "cell_type": "code",
   "execution_count": 4,
   "metadata": {},
   "outputs": [
    {
     "data": {
      "text/plain": [
       "['AlF', 'Ar', 'BF', 'BH2Cl', 'BH2F', 'BH3', 'BHF2', 'BeH2', 'C2H2', 'C2H4']"
      ]
     },
     "execution_count": 4,
     "metadata": {},
     "output_type": "execute_result"
    }
   ],
   "source": [
    "subset[0]"
   ]
  },
  {
   "cell_type": "markdown",
   "metadata": {},
   "source": [
    "We also define a reduced set of studies"
   ]
  },
  {
   "cell_type": "code",
   "execution_count": 5,
   "metadata": {},
   "outputs": [],
   "source": [
    "reduced_study_set = [('lda','hgh-k'),('pbe','hgh-k'),('pbe','nlcc')] #('pbe0','hgh-k')"
   ]
  },
  {
   "cell_type": "markdown",
   "metadata": {},
   "source": [
    "Run the nsp_worflow for the nsp_dataset. For each molecule we add the key 'results'. This key contain the results, for all the allowed studie. "
   ]
  },
  {
   "cell_type": "code",
   "execution_count": 6,
   "metadata": {},
   "outputs": [],
   "source": [
    "subset_done = ['N2','CO','Mg2','Mg','H2O','Ar','HCl']"
   ]
  },
  {
   "cell_type": "code",
   "execution_count": 7,
   "metadata": {},
   "outputs": [
    {
     "name": "stdout",
     "output_type": "stream",
     "text": [
      "Routines basepath : /home/marco/Data/RICERCA/LINEAR RESPONSE/Statical polarizability/Analysis/Calculations and data analysis\n",
      "Initialize a Calculator with OMP_NUM_THREADS=2 and command mpirun -np 4 /home/marco/Applications/BigDFT/binaries/v1.8.3/install/bin/bigdft\n",
      "Compute alpha for :  N2 lda hgh-k\n",
      "Compute alpha for :  N2 pbe hgh-k\n",
      "Compute alpha for :  N2 pbe nlcc\n",
      "Compute alpha for :  CO lda hgh-k\n",
      "Compute alpha for :  CO pbe hgh-k\n",
      "Compute alpha for :  CO pbe nlcc\n",
      "Compute alpha for :  Mg2 lda hgh-k\n",
      "Compute alpha for :  Mg2 pbe hgh-k\n",
      "Compute alpha for :  Mg2 pbe nlcc\n",
      "Compute alpha for :  Mg lda hgh-k\n",
      "Compute alpha for :  Mg pbe hgh-k\n",
      "Compute alpha for :  Mg pbe nlcc\n",
      "Compute alpha for :  H2O lda hgh-k\n",
      "Compute alpha for :  H2O pbe hgh-k\n",
      "Compute alpha for :  H2O pbe nlcc\n",
      "Compute alpha for :  Ar lda hgh-k\n",
      "Compute alpha for :  Ar pbe hgh-k\n",
      "Compute alpha for :  HCl lda hgh-k\n",
      "Compute alpha for :  HCl pbe hgh-k\n",
      "Compute alpha for :  HCl pbe nlcc\n"
     ]
    }
   ],
   "source": [
    "#os.chdir(basepath)\n",
    "reload(R)\n",
    "code=C.SystemCalculator(omp=2,mpi_run='mpirun -np 4',skip=True)\n",
    "\n",
    "for mol in subset_done:\n",
    "    data = nsp_dataset[mol]\n",
    "    data['results'] = {}\n",
    "    for study in data['study']:\n",
    "        if study in reduced_study_set:\n",
    "            data['results'][study] = {}\n",
    "            data['results'][study] = R.nsp_workflow(term_verb=False,molecule=mol,study=study,code=code)"
   ]
  },
  {
   "cell_type": "code",
   "execution_count": 9,
   "metadata": {},
   "outputs": [],
   "source": [
    "#nsp_dataset['HCl']['results']['pbe','nlcc']"
   ]
  },
  {
   "cell_type": "markdown",
   "metadata": {},
   "source": [
    "Save the dataset as yaml file"
   ]
  },
  {
   "cell_type": "code",
   "execution_count": 10,
   "metadata": {},
   "outputs": [],
   "source": [
    "import yaml\n",
    "with open('nsp_results.yaml', 'w') as outfile:\n",
    "    yaml.dump(nsp_dataset, outfile, default_flow_style=False)"
   ]
  },
  {
   "cell_type": "markdown",
   "metadata": {},
   "source": [
    "## Analysis of the statical polarizability for the sp dataset"
   ]
  },
  {
   "cell_type": "markdown",
   "metadata": {},
   "source": [
    "....TO BE DONE...."
   ]
  },
  {
   "cell_type": "code",
   "execution_count": null,
   "metadata": {},
   "outputs": [],
   "source": []
  }
 ],
 "metadata": {
  "kernelspec": {
   "display_name": "Python 2",
   "language": "python",
   "name": "python2"
  },
  "language_info": {
   "codemirror_mode": {
    "name": "ipython",
    "version": 2
   },
   "file_extension": ".py",
   "mimetype": "text/x-python",
   "name": "python",
   "nbconvert_exporter": "python",
   "pygments_lexer": "ipython2",
   "version": "2.7.15rc1"
  }
 },
 "nbformat": 4,
 "nbformat_minor": 2
}
