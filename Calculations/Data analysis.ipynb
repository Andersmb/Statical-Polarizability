{
 "cells": [
  {
   "cell_type": "code",
   "execution_count": 1,
   "metadata": {},
   "outputs": [
    {
     "name": "stdout",
     "output_type": "stream",
     "text": [
      "Routines basepath : /home/marco/Data/RICERCA/DFT AND MANY BODY/LR MOLECULES (CEA)/Statical polarizability/Analysis/Calculations\n"
     ]
    }
   ],
   "source": [
    "import numpy as np\n",
    "import matplotlib.pyplot as plt\n",
    "import os, sys, yaml\n",
    "sys.path.insert(0,'../')\n",
    "import StatPol as SP, Routines as R\n",
    "\n",
    "basepath = os.getcwd()\n",
    "\n",
    "AuToA = 0.5291772085**3"
   ]
  },
  {
   "cell_type": "markdown",
   "metadata": {},
   "source": [
    "# Data analysis"
   ]
  },
  {
   "cell_type": "code",
   "execution_count": 2,
   "metadata": {},
   "outputs": [],
   "source": [
    "nsp_results = yaml.load(open('nsp_results.yaml'))\n",
    "#nsp_results"
   ]
  },
  {
   "cell_type": "code",
   "execution_count": 3,
   "metadata": {},
   "outputs": [
    {
     "name": "stdout",
     "output_type": "stream",
     "text": [
      "60\n"
     ]
    }
   ],
   "source": [
    "# Build the list of molecules for which the 'results' key is provided\n",
    "computed_mol = []\n",
    "for mol,data in nsp_results.iteritems():\n",
    "    if 'results' in data:\n",
    "        computed_mol.append(mol)\n",
    "computed_mol.sort()\n",
    "print len(computed_mol)\n",
    "#computed_mol"
   ]
  },
  {
   "cell_type": "markdown",
   "metadata": {},
   "source": [
    "## First checks of the convergence procedure"
   ]
  },
  {
   "cell_type": "code",
   "execution_count": 4,
   "metadata": {},
   "outputs": [
    {
     "data": {
      "text/plain": [
       "[('lda', 'hgh-k'), ('pbe', 'hgh-k'), ('pbe', 'nlcc')]"
      ]
     },
     "execution_count": 4,
     "metadata": {},
     "output_type": "execute_result"
    }
   ],
   "source": [
    "# For each molecule the computed study are given as\n",
    "res = nsp_results['CO']['results']\n",
    "#print res\n",
    "res.keys()"
   ]
  },
  {
   "cell_type": "markdown",
   "metadata": {},
   "source": [
    "We can check if convergence has been achieved, both on the field intensity and on the value of rmult"
   ]
  },
  {
   "cell_type": "code",
   "execution_count": 6,
   "metadata": {},
   "outputs": [],
   "source": [
    "for mol in computed_mol:\n",
    "    results = nsp_results[mol]['results']\n",
    "    #print mol\n",
    "    for study in res:\n",
    "        if res[study]['field_conv']['converged']==False:\n",
    "            print mol, study, 'field convergence failed'\n",
    "        if res[study]['rmult_conv']['converged']==False:\n",
    "            print mol, study, 'rmult convergence failed'"
   ]
  },
  {
   "cell_type": "markdown",
   "metadata": {},
   "source": [
    "Convergence has been achieved for all the studies. We can extract the value of the field or the value of rmult"
   ]
  },
  {
   "cell_type": "code",
   "execution_count": 68,
   "metadata": {
    "scrolled": true
   },
   "outputs": [
    {
     "name": "stdout",
     "output_type": "stream",
     "text": [
      "mol study field_conv rmult_conv\n",
      "AlF ('lda', 'hgh-k') 0.01 6.0\n",
      "AlF ('pbe', 'hgh-k') 0.01 6.0\n",
      "AlF ('pbe', 'nlcc') 0.01 6.0\n",
      "Ar ('lda', 'hgh-k') 0.01 7.0\n",
      "Ar ('pbe', 'hgh-k') 0.01 7.0\n",
      "BF ('lda', 'hgh-k') 0.01 6.0\n",
      "BF ('pbe', 'hgh-k') 0.01 6.0\n",
      "BF ('pbe', 'nlcc') 0.01 6.0\n",
      "BH2Cl ('lda', 'hgh-k') 0.01 6.0\n",
      "BH2Cl ('pbe', 'hgh-k') 0.01 6.0\n",
      "BH2Cl ('pbe', 'nlcc') 0.01 6.0\n",
      "BH2F ('lda', 'hgh-k') 0.01 6.0\n",
      "BH2F ('pbe', 'hgh-k') 0.01 6.0\n",
      "BH2F ('pbe', 'nlcc') 0.01 6.0\n",
      "BH3 ('lda', 'hgh-k') 0.01 5.0\n",
      "BH3 ('pbe', 'hgh-k') 0.01 5.0\n",
      "BH3 ('pbe', 'nlcc') 0.01 5.0\n",
      "BHF2 ('lda', 'hgh-k') 0.01 5.0\n",
      "BHF2 ('pbe', 'hgh-k') 0.01 5.0\n",
      "BHF2 ('pbe', 'nlcc') 0.01 5.0\n",
      "BeH2 ('lda', 'hgh-k') 0.01 6.0\n",
      "BeH2 ('pbe', 'hgh-k') 0.01 6.0\n",
      "C2H2 ('lda', 'hgh-k') 0.01 6.0\n",
      "C2H2 ('pbe', 'hgh-k') 0.01 6.0\n",
      "C2H2 ('pbe', 'nlcc') 0.01 6.0\n",
      "C2H4 ('lda', 'hgh-k') 0.01 6.0\n",
      "C2H4 ('pbe', 'hgh-k') 0.01 6.0\n",
      "C2H4 ('pbe', 'nlcc') 0.01 6.0\n",
      "CH2BH ('lda', 'hgh-k') 0.01 7.0\n",
      "CH2BH ('pbe', 'hgh-k') 0.01 7.0\n",
      "CH2BH ('pbe', 'nlcc') 0.01 7.0\n",
      "CH3BH2 ('lda', 'hgh-k') 0.01 5.0\n",
      "CH3BH2 ('pbe', 'hgh-k') 0.01 6.0\n",
      "CH3BH2 ('pbe', 'nlcc') 0.01 6.0\n",
      "CH3Cl ('lda', 'hgh-k') 0.005 8.0\n",
      "CH3Cl ('pbe', 'hgh-k') 0.005 8.0\n",
      "CH3Cl ('pbe', 'nlcc') 0.005 8.0\n",
      "CH3F ('lda', 'hgh-k') 0.005 6.0\n",
      "CH3F ('pbe', 'hgh-k') 0.005 6.0\n",
      "CH3F ('pbe', 'nlcc') 0.005 6.0\n",
      "CH3NH2 ('lda', 'hgh-k') 0.001 8.0\n",
      "CH3NH2 ('pbe', 'hgh-k') 0.001 8.0\n",
      "CH3NH2 ('pbe', 'nlcc') 0.001 8.0\n",
      "CH3OH ('lda', 'hgh-k') 0.01 7.0\n",
      "CH3OH ('pbe', 'hgh-k') 0.01 7.0\n",
      "CH3OH ('pbe', 'nlcc') 0.01 7.0\n",
      "CH3SH ('lda', 'hgh-k') 0.001 9.0\n",
      "CH3SH ('pbe', 'hgh-k') 0.001 9.0\n",
      "CH4 ('lda', 'hgh-k') 0.01 5.0\n",
      "CH4 ('pbe', 'hgh-k') 0.01 5.0\n",
      "CH4 ('pbe', 'nlcc') 0.01 5.0\n",
      "CO ('lda', 'hgh-k') 0.01 6.0\n",
      "CO ('pbe', 'hgh-k') 0.01 6.0\n",
      "CO ('pbe', 'nlcc') 0.01 6.0\n",
      "CO2 ('lda', 'hgh-k') 0.01 6.0\n",
      "CO2 ('pbe', 'hgh-k') 0.01 6.0\n",
      "CO2 ('pbe', 'nlcc') 0.01 6.0\n",
      "CS ('lda', 'hgh-k') 0.01 7.0\n",
      "CS ('pbe', 'hgh-k') 0.01 7.0\n",
      "CSO ('lda', 'hgh-k') 0.01 8.0\n",
      "CSO ('pbe', 'hgh-k') 0.01 8.0\n",
      "Cl2 ('lda', 'hgh-k') 0.01 7.0\n",
      "Cl2 ('pbe', 'hgh-k') 0.01 7.0\n",
      "Cl2 ('pbe', 'nlcc') 0.01 7.0\n",
      "ClCN ('lda', 'hgh-k') 0.01 7.0\n",
      "ClCN ('pbe', 'hgh-k') 0.01 7.0\n",
      "ClCN ('pbe', 'nlcc') 0.01 7.0\n",
      "ClF ('lda', 'hgh-k') 0.01 8.0\n",
      "ClF ('pbe', 'hgh-k') 0.01 8.0\n",
      "ClF ('pbe', 'nlcc') 0.01 8.0\n",
      "FCN ('lda', 'hgh-k') 0.01 6.0\n",
      "FCN ('pbe', 'hgh-k') 0.01 6.0\n",
      "FCN ('pbe', 'nlcc') 0.01 6.0\n",
      "FNO ('lda', 'hgh-k') 0.01 7.0\n",
      "FNO ('pbe', 'hgh-k') 0.01 7.0\n",
      "FNO ('pbe', 'nlcc') 0.01 7.0\n",
      "H ('lda', 'hgh-k') 0.01 7.0\n",
      "H ('pbe', 'hgh-k') 0.01 7.0\n",
      "H ('pbe', 'nlcc') 0.01 7.0\n",
      "H2 ('lda', 'hgh-k') 0.01 6.0\n",
      "H2 ('pbe', 'hgh-k') 0.01 6.0\n",
      "H2 ('pbe', 'nlcc') 0.01 6.0\n",
      "H2O ('lda', 'hgh-k') 0.01 6.0\n",
      "H2O ('pbe', 'hgh-k') 0.01 6.0\n",
      "H2O ('pbe', 'nlcc') 0.01 7.0\n",
      "HBO ('lda', 'hgh-k') 0.01 5.0\n",
      "HBO ('pbe', 'hgh-k') 0.01 5.0\n",
      "HBO ('pbe', 'nlcc') 0.01 5.0\n",
      "HBS ('lda', 'hgh-k') 0.01 7.0\n",
      "HBS ('pbe', 'hgh-k') 0.01 7.0\n",
      "HCCCl ('lda', 'hgh-k') 0.01 7.0\n",
      "HCCCl ('pbe', 'hgh-k') 0.01 7.0\n",
      "HCCCl ('pbe', 'nlcc') 0.01 7.0\n",
      "HCCF ('lda', 'hgh-k') 0.01 6.0\n",
      "HCCF ('pbe', 'hgh-k') 0.01 6.0\n",
      "HCCF ('pbe', 'nlcc') 0.01 6.0\n",
      "HCHO ('lda', 'hgh-k') 0.01 6.0\n",
      "HCHO ('pbe', 'hgh-k') 0.01 6.0\n",
      "HCHO ('pbe', 'nlcc') 0.01 6.0\n",
      "HCN ('lda', 'hgh-k') 0.01 6.0\n",
      "HCN ('pbe', 'hgh-k') 0.01 6.0\n",
      "HCN ('pbe', 'nlcc') 0.01 6.0\n",
      "HCONH2 ('lda', 'hgh-k') 0.01 6.0\n",
      "HCONH2 ('pbe', 'hgh-k') 0.01 6.0\n",
      "HCONH2 ('pbe', 'nlcc') 0.01 6.0\n",
      "HCOOH ('lda', 'hgh-k') 0.01 7.0\n",
      "HCOOH ('pbe', 'hgh-k') 0.01 7.0\n",
      "HCOOH ('pbe', 'nlcc') 0.01 7.0\n",
      "HCl ('lda', 'hgh-k') 0.01 7.0\n",
      "HCl ('pbe', 'hgh-k') 0.01 8.0\n",
      "HCl ('pbe', 'nlcc') 0.01 7.0\n",
      "HF ('lda', 'hgh-k') 0.01 6.0\n",
      "HF ('pbe', 'hgh-k') 0.01 6.0\n",
      "HF ('pbe', 'nlcc') 0.01 6.0\n",
      "HNC ('lda', 'hgh-k') 0.01 6.0\n",
      "HNC ('pbe', 'hgh-k') 0.01 6.0\n",
      "HNC ('pbe', 'nlcc') 0.01 6.0\n",
      "HOCl ('lda', 'hgh-k') 0.01 8.0\n",
      "HOCl ('pbe', 'hgh-k') 0.01 8.0\n",
      "HOCl ('pbe', 'nlcc') 0.01 8.0\n",
      "HOOH ('lda', 'hgh-k') 0.01 7.0\n",
      "HOOH ('pbe', 'hgh-k') 0.01 7.0\n",
      "HOOH ('pbe', 'nlcc') 0.01 7.0\n",
      "He ('lda', 'hgh-k') 0.01 7.0\n",
      "He ('pbe', 'hgh-k') 0.01 7.0\n",
      "LiBH4 ('lda', 'hgh-k') 0.001 6.0\n",
      "LiBH4 ('pbe', 'hgh-k') 0.001 6.0\n",
      "LiCN ('lda', 'hgh-k') 0.001 6.0\n",
      "LiCN ('pbe', 'hgh-k') 0.001 6.0\n",
      "LiCl ('lda', 'hgh-k') 0.01 6.0\n",
      "LiCl ('pbe', 'hgh-k') 0.005 6.0\n",
      "LiH ('lda', 'hgh-k') 0.001 7.0\n",
      "LiH ('pbe', 'hgh-k') 0.001 6.0\n",
      "Mg ('lda', 'hgh-k') 0.005 8.0\n",
      "Mg ('pbe', 'hgh-k') 0.005 8.0\n",
      "Mg ('pbe', 'nlcc') 0.005 8.0\n",
      "Mg2 ('lda', 'hgh-k') 0.001 7.0\n",
      "Mg2 ('pbe', 'hgh-k') 0.001 8.0\n",
      "Mg2 ('pbe', 'nlcc') 0.001 7.0\n",
      "N2 ('lda', 'hgh-k') 0.01 6.0\n",
      "N2 ('pbe', 'hgh-k') 0.01 6.0\n",
      "N2 ('pbe', 'nlcc') 0.01 6.0\n",
      "N2H4 ('lda', 'hgh-k') 0.005 8.0\n",
      "N2H4 ('pbe', 'hgh-k') 0.005 8.0\n",
      "N2H4 ('pbe', 'nlcc') 0.005 8.0\n",
      "NH2Cl ('lda', 'hgh-k') 0.005 9.0\n",
      "NH2Cl ('pbe', 'hgh-k') 0.001 9.0\n",
      "NH2Cl ('pbe', 'nlcc') 0.001 9.0\n",
      "NH2F ('lda', 'hgh-k') 0.005 8.0\n",
      "NH2F ('pbe', 'hgh-k') 0.005 8.0\n",
      "NH2F ('pbe', 'nlcc') 0.005 8.0\n",
      "NH2OH ('lda', 'hgh-k') 0.01 8.0\n",
      "NH2OH ('pbe', 'hgh-k') 0.01 8.0\n",
      "NH2OH ('pbe', 'nlcc') 0.01 8.0\n",
      "NH3 ('lda', 'hgh-k') 0.005 7.0\n",
      "NH3 ('pbe', 'hgh-k') 0.005 7.0\n",
      "NH3 ('pbe', 'nlcc') 0.005 7.0\n",
      "NH3O ('lda', 'hgh-k') 0.001 8.0\n",
      "NH3O ('pbe', 'hgh-k') 0.001 8.0\n",
      "NH3O ('pbe', 'nlcc') 0.001 8.0\n",
      "NaCN ('lda', 'hgh-k') 0.001 8.0\n",
      "NaCN ('pbe', 'hgh-k') 0.001 6.0\n",
      "NaCl ('lda', 'hgh-k') 0.001 7.0\n",
      "NaCl ('pbe', 'hgh-k') 0.001 7.0\n",
      "NaH ('lda', 'hgh-k') 0.001 7.0\n",
      "NaH ('pbe', 'hgh-k') 0.001 7.0\n"
     ]
    }
   ],
   "source": [
    "print 'mol', 'study', 'field_conv', 'rmult_conv'\n",
    "val = 'field_conv'\n",
    "for mol in computed_mol:\n",
    "    results = nsp_results[mol]['results']\n",
    "    for study in results:\n",
    "        print mol, study,results[study]['field_conv']['converged_value'],\\\n",
    "        results[study]['rmult_conv']['converged_value']"
   ]
  },
  {
   "cell_type": "markdown",
   "metadata": {},
   "source": [
    "We see that both the field convergence and the rmult convergence values changes for the different molecules and studies of the dataset. This fact indicates that the (quite complex) procedure for the determination of these parameters has been useful."
   ]
  },
  {
   "cell_type": "markdown",
   "metadata": {},
   "source": [
    "## Effects of the psp on the statical polarizability"
   ]
  },
  {
   "cell_type": "markdown",
   "metadata": {},
   "source": [
    "We choose on psp and display the reference results and the one(s) obtained by the performed study. We show the diagonal components of the polarizability tensor"
   ]
  },
  {
   "cell_type": "code",
   "execution_count": 61,
   "metadata": {},
   "outputs": [],
   "source": [
    "def get_study_avgAlpha(data,xc,psp):\n",
    "    \"\"\"\n",
    "    Extract the average polarizability associated to the study xc,psp taking the\n",
    "    dictionary data as input. If xcx,psp is not in the computed study returns 0.\n",
    "    \n",
    "    Args:\n",
    "        data : is of the form nsp_results[molecule]['results']\n",
    "    \"\"\"\n",
    "    study = data.keys()\n",
    "    alpha = 0.\n",
    "    if (xc,psp) in study:\n",
    "        results = data[xc,psp]['rmult_conv']\n",
    "        rmult = results['converged_value']\n",
    "        alpha = results['results'][rmult]\n",
    "        alpha = SP.eval_alpha_avg(alpha)\n",
    "    return alpha\n",
    "    "
   ]
  },
  {
   "cell_type": "code",
   "execution_count": 53,
   "metadata": {},
   "outputs": [
    {
     "data": {
      "text/plain": [
       "0.0"
      ]
     },
     "execution_count": 53,
     "metadata": {},
     "output_type": "execute_result"
    }
   ],
   "source": [
    "r = nsp_results['CO']['results']\n",
    "get_study_avgAlpha(r,'pbe','nlccc')"
   ]
  },
  {
   "cell_type": "code",
   "execution_count": 74,
   "metadata": {},
   "outputs": [],
   "source": [
    "xc = 'pbe'"
   ]
  },
  {
   "cell_type": "code",
   "execution_count": 75,
   "metadata": {
    "scrolled": false
   },
   "outputs": [
    {
     "name": "stdout",
     "output_type": "stream",
     "text": [
      "xc =  pbe\n",
      "mol ref_results hgh-k nlcc\n",
      "AlF 41.0298742861 -0.4194812254475705 0.9266598720083782\n",
      "\n",
      "Ar 11.9378038836 -0.31034923959634864 -100.0\n",
      "\n",
      "BF 21.4057173085 0.3124602517147766 0.5192585852101261\n",
      "\n",
      "BH2Cl 31.352762489 0.05460713168798876 -0.45342890943931763\n",
      "\n",
      "BH2F 17.9933094526 -0.133749450722586 -0.23245095259746093\n",
      "\n",
      "BH3 18.2789889501 -0.8746414649064564 -0.8716143098770158\n",
      "\n",
      "BHF2 17.7593671869 -0.38219560140950737 -0.5449547791201345\n",
      "\n",
      "BeH2 21.6216640153 -0.38068615746175405 -100.0\n",
      "\n",
      "C2H2 24.0758083599 -0.2507912741798103 -0.3598564940919238\n",
      "\n",
      "C2H4 28.7366581143 -0.061581439231248904 -0.37315791521003344\n",
      "\n",
      "CH2BH 32.2795337723 0.36552952896449353 0.2923097601575569\n",
      "\n",
      "CH3BH2 31.0310918737 -0.2596203856962908 -0.22698913516043132\n",
      "\n",
      "CH3Cl 31.6181969828 0.09613562272321972 -0.5353467272733372\n",
      "\n",
      "CH3F 17.7886099701 -0.3081408282804293 -0.564889388605063\n",
      "\n",
      "CH3NH2 27.3127595166 -0.354814080588079 -0.44327090599728675\n",
      "\n",
      "CH3OH 22.6496603173 0.16195834971464337 -0.02879506289638334\n",
      "\n",
      "CH3SH 38.8839038876 -0.20772233802524528 -100.0\n",
      "\n",
      "CH4 17.4781865791 -0.9028773002654154 -1.036272145860277\n",
      "\n",
      "CO 13.6653775377 -0.22944386992926705 -0.1187797728348751\n",
      "\n",
      "CO2 17.8358483122 -0.21556761155489979 -0.24678750777661\n",
      "\n",
      "CS 29.3912465692 0.19521718476304048 -100.0\n",
      "\n",
      "CSO 34.9541237134 0.234196363472283 -100.0\n",
      "\n",
      "Cl2 31.8948787008 -0.16432742899864922 -0.9511308602139679\n",
      "\n",
      "ClCN 31.9938542748 0.2538687312112442 -0.27292514994882855\n",
      "\n",
      "ClF 19.2934885829 0.4922649595496551 -0.14077331210293717\n",
      "\n",
      "FCN 19.2777424689 -0.03947973788281687 -0.10775363814850987\n",
      "\n",
      "FNO 17.8920844338 -0.09754462739973459 -0.1673520332737422\n",
      "\n",
      "H 5.59436937224 26.04581554795716 26.011700889574534\n",
      "\n",
      "H2 5.69334494617 -0.020303462775392533 -0.05658266278046741\n",
      "\n",
      "H2O 10.6061325252 -0.3851783397108301 0.23548459446548298\n",
      "\n",
      "HBO 17.5209260315 -0.29301741667831854 -0.5013968136026337\n",
      "\n",
      "HBS 35.237553766 0.404265862490167 -100.0\n",
      "\n",
      "HCCCl 38.8861533325 0.2089261272662674 -0.35411919324854785\n",
      "\n",
      "HCCF 24.9935818637 -0.21604958672165656 -0.27098368970415154\n",
      "\n",
      "HCHO 19.0168068649 -0.2995255648786019 -0.46444985293719016\n",
      "\n",
      "HCN 17.6288993849 -0.21315029788931292 -0.3082309169382658\n",
      "\n",
      "HCONH2 29.8951222183 -0.41497087976172464 -0.3958746764023642\n",
      "\n",
      "HCOOH 24.2490156143 0.1856132489668182 0.09709419177521053\n",
      "\n",
      "HCl 18.458944539 0.4920674677662954 -0.4560275490603112\n",
      "\n",
      "HF 6.26020505144 -0.27211118433497505 -0.4113504999011877\n",
      "\n",
      "HNC 19.145025222 -0.12271362954881473 0.0054832939273734395\n",
      "\n",
      "HOCl 23.74738941 0.5318293636795516 -0.10586178369416749\n",
      "\n",
      "HOOH 16.0137979738 0.4327852743197993 0.13547916319131106\n",
      "\n",
      "He 1.57911029325 -0.17039932297742721 -100.0\n",
      "\n",
      "LiBH4 32.8823849953 -0.5796720503732519 -100.0\n",
      "\n",
      "LiCN 26.7863894188 -1.37125393448666 -100.0\n",
      "\n",
      "LiCl 29.8141422033 -0.274373828184476 -100.0\n",
      "\n",
      "LiH 33.4987328876 -0.6326196125946469 -100.0\n",
      "\n",
      "Mg 74.164197106 -0.9025205316291759 -0.14362335217806788\n",
      "\n",
      "Mg2 165.394932381 -1.443393103788678 -1.9524373176658714\n",
      "\n",
      "N2 12.2594744989 -0.3099874485275857 -0.358507744677961\n",
      "\n",
      "N2H4 24.530196222 -0.08669405599362012 -0.08216902084937236\n",
      "\n",
      "NH2Cl 28.3385063737 0.1832969797349393 -0.4017726700676406\n",
      "\n",
      "NH2F 15.9598112972 0.1650523035136389 0.01482078623404672\n",
      "\n",
      "NH2OH 20.3327321092 0.4924140227247483 0.3831069382302769\n",
      "\n",
      "NH3 15.489677321 -0.4067180978042583 -0.3075961706748115\n",
      "\n",
      "NH3O 24.0285700178 -0.9569997338400574 -0.7767490296385852\n",
      "\n",
      "NaCN 31.8971281457 -2.012573491720633 -100.0\n",
      "\n",
      "NaCl 37.6219653199 -1.2400964417685134 -100.0\n",
      "\n",
      "NaH 48.556516795 0.2941998612356527 -100.0\n",
      "\n"
     ]
    }
   ],
   "source": [
    "print 'xc = ', xc\n",
    "print 'mol', 'ref_results', 'hgh-k', 'nlcc'\n",
    "\n",
    "for mol in computed_mol:\n",
    "    s = mol + ' '\n",
    "    data = nsp_results[mol]\n",
    "    ref = data['ref_results'][xc]\n",
    "    ref = sum(ref) / (3.0*AuToA)\n",
    "    sum\n",
    "    s+=str(ref)\n",
    "    val_hgh = 100. * (get_study_avgAlpha(data['results'],xc,'hgh-k') - ref) / ref \n",
    "    val_nlcc = 100. * (get_study_avgAlpha(data['results'],xc,'nlcc') - ref) / ref\n",
    "    s+= ' ' + str(val_hgh) + ' ' + str(val_nlcc)\n",
    "    print s\n",
    "    print ''"
   ]
  },
  {
   "cell_type": "markdown",
   "metadata": {},
   "source": [
    "for H is about 25% !!!!!!!"
   ]
  },
  {
   "cell_type": "code",
   "execution_count": null,
   "metadata": {},
   "outputs": [],
   "source": []
  },
  {
   "cell_type": "code",
   "execution_count": null,
   "metadata": {},
   "outputs": [],
   "source": []
  },
  {
   "cell_type": "code",
   "execution_count": null,
   "metadata": {},
   "outputs": [],
   "source": []
  },
  {
   "cell_type": "code",
   "execution_count": null,
   "metadata": {},
   "outputs": [],
   "source": []
  },
  {
   "cell_type": "code",
   "execution_count": null,
   "metadata": {},
   "outputs": [],
   "source": []
  },
  {
   "cell_type": "code",
   "execution_count": null,
   "metadata": {},
   "outputs": [],
   "source": [
    "################################################################################################"
   ]
  },
  {
   "cell_type": "markdown",
   "metadata": {},
   "source": [
    "We build a table with the (converged) values of the average polarizability for all the studies "
   ]
  },
  {
   "cell_type": "code",
   "execution_count": 5,
   "metadata": {},
   "outputs": [
    {
     "name": "stdout",
     "output_type": "stream",
     "text": [
      "Mg ('lda', 'hgh-k') alpha(AU) = 71.8717 alpha(A) = 10.650 r_conv =  8.0 f_conv =  0.005\n",
      "Mg ('pbe', 'hgh-k') alpha(AU) = 73.4948 alpha(A) = 10.891 r_conv =  8.0 f_conv =  0.005\n",
      "CO ('lda', 'hgh-k') alpha(AU) = 13.7103 alpha(A) = 2.032 r_conv =  6.0 f_conv =  0.01\n",
      "CO ('pbe', 'hgh-k') alpha(AU) = 13.6340 alpha(A) = 2.020 r_conv =  6.0 f_conv =  0.01\n",
      "Ne ('lda', 'hgh-k') alpha(AU) = 3.0331 alpha(A) = 0.449 r_conv =  7.0 f_conv =  0.01\n",
      "Ne ('pbe', 'hgh-k') alpha(AU) = 3.0552 alpha(A) = 0.453 r_conv =  7.0 f_conv =  0.01\n",
      "NaCl ('lda', 'hgh-k') alpha(AU) = 35.5620 alpha(A) = 5.270 r_conv =  7.0 f_conv =  0.001\n",
      "NaCl ('pbe', 'hgh-k') alpha(AU) = 37.1554 alpha(A) = 5.506 r_conv =  7.0 f_conv =  0.001\n",
      "Mg2 ('lda', 'hgh-k') alpha(AU) = 158.0223 alpha(A) = 23.416 r_conv =  7.0 f_conv =  0.001\n",
      "Mg2 ('pbe', 'hgh-k') alpha(AU) = 163.0076 alpha(A) = 24.155 r_conv =  8.0 f_conv =  0.001\n",
      "H2O ('lda', 'hgh-k') alpha(AU) = 10.5996 alpha(A) = 1.571 r_conv =  6.0 f_conv =  0.01\n",
      "H2O ('pbe', 'hgh-k') alpha(AU) = 10.5653 alpha(A) = 1.566 r_conv =  6.0 f_conv =  0.01\n",
      "Ar ('lda', 'hgh-k') alpha(AU) = 11.9710 alpha(A) = 1.774 r_conv =  7.0 f_conv =  0.01\n",
      "Ar ('pbe', 'hgh-k') alpha(AU) = 11.9008 alpha(A) = 1.764 r_conv =  7.0 f_conv =  0.01\n",
      "CH4 ('lda', 'hgh-k') alpha(AU) = 17.6507 alpha(A) = 2.616 r_conv =  5.0 f_conv =  0.01\n",
      "CH4 ('pbe', 'hgh-k') alpha(AU) = 17.3204 alpha(A) = 2.567 r_conv =  5.0 f_conv =  0.01\n",
      "N2 ('lda', 'hgh-k') alpha(AU) = 12.2440 alpha(A) = 1.814 r_conv =  6.0 f_conv =  0.01\n",
      "N2 ('pbe', 'hgh-k') alpha(AU) = 12.2215 alpha(A) = 1.811 r_conv =  6.0 f_conv =  0.01\n",
      "HF ('lda', 'hgh-k') alpha(AU) = 6.2226 alpha(A) = 0.922 r_conv =  6.0 f_conv =  0.01\n",
      "HF ('pbe', 'hgh-k') alpha(AU) = 6.2432 alpha(A) = 0.925 r_conv =  6.0 f_conv =  0.01\n",
      "HCl ('lda', 'hgh-k') alpha(AU) = 18.6543 alpha(A) = 2.764 r_conv =  7.0 f_conv =  0.01\n",
      "HCl ('pbe', 'hgh-k') alpha(AU) = 18.5498 alpha(A) = 2.749 r_conv =  8.0 f_conv =  0.01\n",
      "He ('lda', 'hgh-k') alpha(AU) = 1.6505 alpha(A) = 0.245 r_conv =  7.0 f_conv =  0.01\n",
      "He ('pbe', 'hgh-k') alpha(AU) = 1.5764 alpha(A) = 0.234 r_conv =  7.0 f_conv =  0.01\n"
     ]
    }
   ],
   "source": [
    "AuToA = 0.5291772085**3\n",
    "for mol,val in set.iteritems():\n",
    "    for par in val:\n",
    "        f_conv = val[par]['field_conv']['converged_value']\n",
    "        r_conv = val[par]['rmult_conv']['converged_value']\n",
    "        alpha = val[par]['rmult_conv']['results'][r_conv]\n",
    "        alpha_avg = SP.eval_alpha_avg(alpha)\n",
    "        print mol, par, 'alpha(AU) =',\"{:5.4f}\".format(alpha_avg),\\\n",
    "        'alpha(A) =',\"{:4.3f}\".format(alpha_avg*AuToA), 'r_conv = ', r_conv, 'f_conv = ', f_conv\n",
    "    "
   ]
  },
  {
   "cell_type": "code",
   "execution_count": null,
   "metadata": {},
   "outputs": [],
   "source": []
  },
  {
   "cell_type": "code",
   "execution_count": null,
   "metadata": {},
   "outputs": [],
   "source": []
  }
 ],
 "metadata": {
  "kernelspec": {
   "display_name": "Python 2",
   "language": "python",
   "name": "python2"
  },
  "language_info": {
   "codemirror_mode": {
    "name": "ipython",
    "version": 2
   },
   "file_extension": ".py",
   "mimetype": "text/x-python",
   "name": "python",
   "nbconvert_exporter": "python",
   "pygments_lexer": "ipython2",
   "version": "2.7.15rc1"
  }
 },
 "nbformat": 4,
 "nbformat_minor": 2
}
