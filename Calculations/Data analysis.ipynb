{
 "cells": [
  {
   "cell_type": "code",
   "execution_count": 1,
   "metadata": {},
   "outputs": [
    {
     "name": "stdout",
     "output_type": "stream",
     "text": [
      "Routines basepath : /home/marco/Data/RICERCA/DFT AND MANY BODY/LR MOLECULES/Statical polarizability/Analysis/Calculations\n"
     ]
    }
   ],
   "source": [
    "import numpy as np\n",
    "import matplotlib.pyplot as plt\n",
    "import os, sys, yaml\n",
    "sys.path.insert(0,'../')\n",
    "import StatPol as SP, Routines as R\n",
    "\n",
    "basepath = os.getcwd()\n",
    "\n",
    "AuToA = 0.5291772085**3"
   ]
  },
  {
   "cell_type": "markdown",
   "metadata": {},
   "source": [
    "# Data analysis"
   ]
  },
  {
   "cell_type": "code",
   "execution_count": 2,
   "metadata": {},
   "outputs": [],
   "source": [
    "nsp_results = yaml.load(open('nsp_results.yaml'))\n",
    "#nsp_results"
   ]
  },
  {
   "cell_type": "code",
   "execution_count": 3,
   "metadata": {},
   "outputs": [
    {
     "name": "stdout",
     "output_type": "stream",
     "text": [
      "75\n"
     ]
    }
   ],
   "source": [
    "# Build the list of molecules for which the 'results' key is provided\n",
    "computed_mol = []\n",
    "for mol,data in nsp_results.iteritems():\n",
    "    if 'results' in data:\n",
    "        computed_mol.append(mol)\n",
    "computed_mol.sort()\n",
    "print len(computed_mol)\n",
    "#computed_mol"
   ]
  },
  {
   "cell_type": "markdown",
   "metadata": {},
   "source": [
    "## First checks of the convergence procedure"
   ]
  },
  {
   "cell_type": "code",
   "execution_count": 4,
   "metadata": {},
   "outputs": [
    {
     "data": {
      "text/plain": [
       "[('lda', 'hgh-k'), ('pbe', 'hgh-k'), ('pbe', 'nlcc')]"
      ]
     },
     "execution_count": 4,
     "metadata": {},
     "output_type": "execute_result"
    }
   ],
   "source": [
    "# For each molecule the computed study are given as\n",
    "res = nsp_results['CO']['results']\n",
    "#print res\n",
    "res.keys()"
   ]
  },
  {
   "cell_type": "markdown",
   "metadata": {},
   "source": [
    "We can check if convergence has been achieved, both on the field intensity and on the value of rmult"
   ]
  },
  {
   "cell_type": "code",
   "execution_count": 5,
   "metadata": {},
   "outputs": [],
   "source": [
    "for mol in computed_mol:\n",
    "    results = nsp_results[mol]['results']\n",
    "    #print mol\n",
    "    for study in res:\n",
    "        if res[study]['field_conv']['converged']==False:\n",
    "            print mol, study, 'field convergence failed'\n",
    "        if res[study]['rmult_conv']['converged']==False:\n",
    "            print mol, study, 'rmult convergence failed'"
   ]
  },
  {
   "cell_type": "markdown",
   "metadata": {},
   "source": [
    "Convergence has been achieved for all the studies. We can extract the value of the field or the value of rmult"
   ]
  },
  {
   "cell_type": "code",
   "execution_count": 10,
   "metadata": {
    "scrolled": true
   },
   "outputs": [
    {
     "name": "stdout",
     "output_type": "stream",
     "text": [
      "mol study field_conv rmult_conv\n",
      "AlF ('lda', 'hgh-k') 0.01 6.0\n",
      "AlF ('pbe', 'hgh-k') 0.01 6.0\n",
      "AlF ('pbe', 'nlcc') 0.01 6.0\n",
      "Ar ('lda', 'hgh-k') 0.01 7.0\n",
      "Ar ('pbe', 'hgh-k') 0.01 7.0\n",
      "BF ('lda', 'hgh-k') 0.01 6.0\n",
      "BF ('pbe', 'hgh-k') 0.01 6.0\n",
      "BF ('pbe', 'nlcc') 0.01 6.0\n",
      "BH2Cl ('lda', 'hgh-k') 0.01 6.0\n",
      "BH2Cl ('pbe', 'hgh-k') 0.01 6.0\n",
      "BH2Cl ('pbe', 'nlcc') 0.01 6.0\n",
      "BH2F ('lda', 'hgh-k') 0.01 6.0\n",
      "BH2F ('pbe', 'hgh-k') 0.01 6.0\n",
      "BH2F ('pbe', 'nlcc') 0.01 6.0\n",
      "BH3 ('lda', 'hgh-k') 0.01 5.0\n",
      "BH3 ('pbe', 'hgh-k') 0.01 5.0\n",
      "BH3 ('pbe', 'nlcc') 0.01 5.0\n",
      "BHF2 ('lda', 'hgh-k') 0.01 5.0\n",
      "BHF2 ('pbe', 'hgh-k') 0.01 5.0\n",
      "BHF2 ('pbe', 'nlcc') 0.01 5.0\n",
      "BeH2 ('lda', 'hgh-k') 0.01 6.0\n",
      "BeH2 ('pbe', 'hgh-k') 0.01 6.0\n",
      "C2H2 ('lda', 'hgh-k') 0.01 6.0\n",
      "C2H2 ('pbe', 'hgh-k') 0.01 6.0\n",
      "C2H2 ('pbe', 'nlcc') 0.01 6.0\n",
      "C2H4 ('lda', 'hgh-k') 0.01 6.0\n",
      "C2H4 ('pbe', 'hgh-k') 0.01 6.0\n",
      "C2H4 ('pbe', 'nlcc') 0.01 6.0\n",
      "CH2BH ('lda', 'hgh-k') 0.01 7.0\n",
      "CH2BH ('pbe', 'hgh-k') 0.01 7.0\n",
      "CH2BH ('pbe', 'nlcc') 0.01 7.0\n",
      "CH3BH2 ('lda', 'hgh-k') 0.01 5.0\n",
      "CH3BH2 ('pbe', 'hgh-k') 0.01 6.0\n",
      "CH3BH2 ('pbe', 'nlcc') 0.01 6.0\n",
      "CH3Cl ('lda', 'hgh-k') 0.005 8.0\n",
      "CH3Cl ('pbe', 'hgh-k') 0.005 8.0\n",
      "CH3Cl ('pbe', 'nlcc') 0.005 8.0\n",
      "CH3F ('lda', 'hgh-k') 0.005 6.0\n",
      "CH3F ('pbe', 'hgh-k') 0.005 6.0\n",
      "CH3F ('pbe', 'nlcc') 0.005 6.0\n",
      "CH3NH2 ('lda', 'hgh-k') 0.001 8.0\n",
      "CH3NH2 ('pbe', 'hgh-k') 0.001 8.0\n",
      "CH3NH2 ('pbe', 'nlcc') 0.001 8.0\n",
      "CH3OH ('lda', 'hgh-k') 0.01 7.0\n",
      "CH3OH ('pbe', 'hgh-k') 0.01 7.0\n",
      "CH3OH ('pbe', 'nlcc') 0.01 7.0\n",
      "CH3SH ('lda', 'hgh-k') 0.001 9.0\n",
      "CH3SH ('pbe', 'hgh-k') 0.001 9.0\n",
      "CH4 ('lda', 'hgh-k') 0.01 5.0\n",
      "CH4 ('pbe', 'hgh-k') 0.01 5.0\n",
      "CH4 ('pbe', 'nlcc') 0.01 5.0\n",
      "CO ('lda', 'hgh-k') 0.01 6.0\n",
      "CO ('pbe', 'hgh-k') 0.01 6.0\n",
      "CO ('pbe', 'nlcc') 0.01 6.0\n",
      "CO2 ('lda', 'hgh-k') 0.01 6.0\n",
      "CO2 ('pbe', 'hgh-k') 0.01 6.0\n",
      "CO2 ('pbe', 'nlcc') 0.01 6.0\n",
      "CS ('lda', 'hgh-k') 0.01 7.0\n",
      "CS ('pbe', 'hgh-k') 0.01 7.0\n",
      "CSO ('lda', 'hgh-k') 0.01 8.0\n",
      "CSO ('pbe', 'hgh-k') 0.01 8.0\n",
      "Cl2 ('lda', 'hgh-k') 0.01 7.0\n",
      "Cl2 ('pbe', 'hgh-k') 0.01 7.0\n",
      "Cl2 ('pbe', 'nlcc') 0.01 7.0\n",
      "ClCN ('lda', 'hgh-k') 0.01 7.0\n",
      "ClCN ('pbe', 'hgh-k') 0.01 7.0\n",
      "ClCN ('pbe', 'nlcc') 0.01 7.0\n",
      "ClF ('lda', 'hgh-k') 0.01 8.0\n",
      "ClF ('pbe', 'hgh-k') 0.01 8.0\n",
      "ClF ('pbe', 'nlcc') 0.01 8.0\n",
      "FCN ('lda', 'hgh-k') 0.01 6.0\n",
      "FCN ('pbe', 'hgh-k') 0.01 6.0\n",
      "FCN ('pbe', 'nlcc') 0.01 6.0\n",
      "FNO ('lda', 'hgh-k') 0.01 7.0\n",
      "FNO ('pbe', 'hgh-k') 0.01 7.0\n",
      "FNO ('pbe', 'nlcc') 0.01 7.0\n",
      "H ('lda', 'hgh-k') 0.01 7.0\n",
      "H ('pbe', 'hgh-k') 0.01 7.0\n",
      "H ('pbe', 'nlcc') 0.01 7.0\n",
      "H2 ('lda', 'hgh-k') 0.01 6.0\n",
      "H2 ('pbe', 'hgh-k') 0.01 6.0\n",
      "H2 ('pbe', 'nlcc') 0.01 6.0\n",
      "H2O ('lda', 'hgh-k') 0.01 6.0\n",
      "H2O ('pbe', 'hgh-k') 0.01 6.0\n",
      "H2O ('pbe', 'nlcc') 0.01 7.0\n",
      "HBO ('lda', 'hgh-k') 0.01 5.0\n",
      "HBO ('pbe', 'hgh-k') 0.01 5.0\n",
      "HBO ('pbe', 'nlcc') 0.01 5.0\n",
      "HBS ('lda', 'hgh-k') 0.01 7.0\n",
      "HBS ('pbe', 'hgh-k') 0.01 7.0\n",
      "HCCCl ('lda', 'hgh-k') 0.01 7.0\n",
      "HCCCl ('pbe', 'hgh-k') 0.01 7.0\n",
      "HCCCl ('pbe', 'nlcc') 0.01 7.0\n",
      "HCCF ('lda', 'hgh-k') 0.01 6.0\n",
      "HCCF ('pbe', 'hgh-k') 0.01 6.0\n",
      "HCCF ('pbe', 'nlcc') 0.01 6.0\n",
      "HCHO ('lda', 'hgh-k') 0.01 6.0\n",
      "HCHO ('pbe', 'hgh-k') 0.01 6.0\n",
      "HCHO ('pbe', 'nlcc') 0.01 6.0\n",
      "HCN ('lda', 'hgh-k') 0.01 6.0\n",
      "HCN ('pbe', 'hgh-k') 0.01 6.0\n",
      "HCN ('pbe', 'nlcc') 0.01 6.0\n",
      "HCONH2 ('lda', 'hgh-k') 0.01 6.0\n",
      "HCONH2 ('pbe', 'hgh-k') 0.01 6.0\n",
      "HCONH2 ('pbe', 'nlcc') 0.01 6.0\n",
      "HCOOH ('lda', 'hgh-k') 0.01 7.0\n",
      "HCOOH ('pbe', 'hgh-k') 0.01 7.0\n",
      "HCOOH ('pbe', 'nlcc') 0.01 7.0\n",
      "HCl ('lda', 'hgh-k') 0.01 7.0\n",
      "HCl ('pbe', 'hgh-k') 0.01 8.0\n",
      "HCl ('pbe', 'nlcc') 0.01 7.0\n",
      "HF ('lda', 'hgh-k') 0.01 6.0\n",
      "HF ('pbe', 'hgh-k') 0.01 6.0\n",
      "HF ('pbe', 'nlcc') 0.01 6.0\n",
      "HNC ('lda', 'hgh-k') 0.01 6.0\n",
      "HNC ('pbe', 'hgh-k') 0.01 6.0\n",
      "HNC ('pbe', 'nlcc') 0.01 6.0\n",
      "HOCl ('lda', 'hgh-k') 0.01 8.0\n",
      "HOCl ('pbe', 'hgh-k') 0.01 8.0\n",
      "HOCl ('pbe', 'nlcc') 0.01 8.0\n",
      "HOOH ('lda', 'hgh-k') 0.01 7.0\n",
      "HOOH ('pbe', 'hgh-k') 0.01 7.0\n",
      "HOOH ('pbe', 'nlcc') 0.01 7.0\n",
      "He ('lda', 'hgh-k') 0.01 7.0\n",
      "He ('pbe', 'hgh-k') 0.01 7.0\n",
      "LiBH4 ('lda', 'hgh-k') 0.001 6.0\n",
      "LiBH4 ('pbe', 'hgh-k') 0.001 6.0\n",
      "LiCN ('lda', 'hgh-k') 0.001 6.0\n",
      "LiCN ('pbe', 'hgh-k') 0.001 6.0\n",
      "LiCl ('lda', 'hgh-k') 0.01 6.0\n",
      "LiCl ('pbe', 'hgh-k') 0.005 6.0\n",
      "LiH ('lda', 'hgh-k') 0.001 7.0\n",
      "LiH ('pbe', 'hgh-k') 0.001 6.0\n",
      "Mg ('lda', 'hgh-k') 0.005 8.0\n",
      "Mg ('pbe', 'hgh-k') 0.005 8.0\n",
      "Mg ('pbe', 'nlcc') 0.005 8.0\n",
      "Mg2 ('lda', 'hgh-k') 0.001 7.0\n",
      "Mg2 ('pbe', 'hgh-k') 0.001 8.0\n",
      "Mg2 ('pbe', 'nlcc') 0.001 7.0\n",
      "N2 ('lda', 'hgh-k') 0.01 6.0\n",
      "N2 ('pbe', 'hgh-k') 0.01 6.0\n",
      "N2 ('pbe', 'nlcc') 0.01 6.0\n",
      "N2H4 ('lda', 'hgh-k') 0.005 8.0\n",
      "N2H4 ('pbe', 'hgh-k') 0.005 8.0\n",
      "N2H4 ('pbe', 'nlcc') 0.005 8.0\n",
      "NH2Cl ('lda', 'hgh-k') 0.005 9.0\n",
      "NH2Cl ('pbe', 'hgh-k') 0.001 9.0\n",
      "NH2Cl ('pbe', 'nlcc') 0.001 9.0\n",
      "NH2F ('lda', 'hgh-k') 0.005 8.0\n",
      "NH2F ('pbe', 'hgh-k') 0.005 8.0\n",
      "NH2F ('pbe', 'nlcc') 0.005 8.0\n",
      "NH2OH ('lda', 'hgh-k') 0.01 8.0\n",
      "NH2OH ('pbe', 'hgh-k') 0.01 8.0\n",
      "NH2OH ('pbe', 'nlcc') 0.01 8.0\n",
      "NH3 ('lda', 'hgh-k') 0.005 7.0\n",
      "NH3 ('pbe', 'hgh-k') 0.005 7.0\n",
      "NH3 ('pbe', 'nlcc') 0.005 7.0\n",
      "NH3O ('lda', 'hgh-k') 0.001 8.0\n",
      "NH3O ('pbe', 'hgh-k') 0.001 8.0\n",
      "NH3O ('pbe', 'nlcc') 0.001 8.0\n",
      "NaCN ('lda', 'hgh-k') 0.001 8.0\n",
      "NaCN ('pbe', 'hgh-k') 0.001 6.0\n",
      "NaCl ('lda', 'hgh-k') 0.001 7.0\n",
      "NaCl ('pbe', 'hgh-k') 0.001 7.0\n",
      "NaH ('lda', 'hgh-k') 0.001 7.0\n",
      "NaH ('pbe', 'hgh-k') 0.001 7.0\n",
      "Ne ('lda', 'hgh-k') 0.01 7.0\n",
      "Ne ('pbe', 'hgh-k') 0.01 7.0\n",
      "OCl2 ('lda', 'hgh-k') 0.01 8.0\n",
      "OCl2 ('pbe', 'hgh-k') 0.01 8.0\n",
      "OCl2 ('pbe', 'nlcc') 0.01 8.0\n",
      "P2H4 ('lda', 'hgh-k') 0.01 8.0\n",
      "P2H4 ('pbe', 'hgh-k') 0.01 8.0\n",
      "P2H4 ('pbe', 'nlcc') 0.01 8.0\n",
      "PH2OH ('lda', 'hgh-k') 0.01 8.0\n",
      "PH2OH ('pbe', 'hgh-k') 0.01 8.0\n",
      "PH2OH ('pbe', 'nlcc') 0.01 8.0\n",
      "PH3 ('lda', 'hgh-k') 0.001 7.0\n",
      "PH3 ('pbe', 'hgh-k') 0.001 7.0\n",
      "PH3 ('pbe', 'nlcc') 0.001 7.0\n",
      "PH3O ('lda', 'hgh-k') 0.001 7.0\n",
      "PH3O ('pbe', 'hgh-k') 0.001 7.0\n",
      "PH3O ('pbe', 'nlcc') 0.001 7.0\n",
      "S2H2 ('lda', 'hgh-k') 0.01 8.0\n",
      "S2H2 ('pbe', 'hgh-k') 0.01 8.0\n",
      "SCl2 ('lda', 'hgh-k') 0.01 7.0\n",
      "SCl2 ('pbe', 'hgh-k') 0.01 7.0\n",
      "SF2 ('lda', 'hgh-k') 0.01 8.0\n",
      "SF2 ('pbe', 'hgh-k') 0.01 8.0\n",
      "SH2 ('lda', 'hgh-k') 0.01 8.0\n",
      "SH2 ('pbe', 'hgh-k') 0.01 8.0\n",
      "SO2 ('lda', 'hgh-k') 0.01 7.0\n",
      "SO2 ('pbe', 'hgh-k') 0.01 7.0\n",
      "SiH3Cl ('lda', 'hgh-k') 0.005 7.0\n",
      "SiH3Cl ('pbe', 'hgh-k') 0.005 7.0\n",
      "SiH3Cl ('pbe', 'nlcc') 0.005 7.0\n",
      "SiH3F ('lda', 'hgh-k') 0.01 5.0\n",
      "SiH3F ('pbe', 'hgh-k') 0.01 5.0\n",
      "SiH3F ('pbe', 'nlcc') 0.01 5.0\n",
      "SiH4 ('lda', 'hgh-k') 0.01 6.0\n",
      "SiH4 ('pbe', 'hgh-k') 0.01 6.0\n",
      "SiH4 ('pbe', 'nlcc') 0.01 6.0\n",
      "SiO ('lda', 'hgh-k') 0.01 6.0\n",
      "SiO ('pbe', 'hgh-k') 0.01 6.0\n",
      "SiO ('pbe', 'nlcc') 0.01 6.0\n"
     ]
    }
   ],
   "source": [
    "print 'mol', 'study', 'field_conv', 'rmult_conv'\n",
    "val = 'field_conv'\n",
    "for mol in computed_mol:\n",
    "    results = nsp_results[mol]['results']\n",
    "    for study in results:\n",
    "        print mol, study,results[study]['field_conv']['converged_value'],\\\n",
    "        results[study]['rmult_conv']['converged_value']"
   ]
  },
  {
   "cell_type": "markdown",
   "metadata": {},
   "source": [
    "We see that both the field convergence and the rmult convergence values changes for the different molecules and studies of the dataset. This fact indicates that the (quite complex) procedure for the determination of these parameters has been useful."
   ]
  },
  {
   "cell_type": "markdown",
   "metadata": {},
   "source": [
    "## Effects of the psp on the statical polarizability"
   ]
  },
  {
   "cell_type": "markdown",
   "metadata": {},
   "source": [
    "We choose on psp and display the reference results and the one(s) obtained by the performed study. We show the diagonal components of the polarizability tensor"
   ]
  },
  {
   "cell_type": "code",
   "execution_count": 11,
   "metadata": {},
   "outputs": [],
   "source": [
    "def get_study_avgAlpha(data,xc,psp):\n",
    "    \"\"\"\n",
    "    Extract the average polarizability associated to the study xc,psp taking the\n",
    "    dictionary data as input. If xcx,psp is not in the computed study returns 0.\n",
    "    \n",
    "    Args:\n",
    "        data : is of the form nsp_results[molecule]['results']\n",
    "    \"\"\"\n",
    "    study = data.keys()\n",
    "    alpha = 0.\n",
    "    if (xc,psp) in study:\n",
    "        results = data[xc,psp]['rmult_conv']\n",
    "        rmult = results['converged_value']\n",
    "        alpha = results['results'][rmult]\n",
    "        alpha = SP.eval_alpha_avg(alpha)\n",
    "    return alpha\n",
    "    "
   ]
  },
  {
   "cell_type": "code",
   "execution_count": 12,
   "metadata": {},
   "outputs": [
    {
     "data": {
      "text/plain": [
       "0.0"
      ]
     },
     "execution_count": 12,
     "metadata": {},
     "output_type": "execute_result"
    }
   ],
   "source": [
    "r = nsp_results['CO']['results']\n",
    "get_study_avgAlpha(r,'pbe','nlccc')"
   ]
  },
  {
   "cell_type": "code",
   "execution_count": 13,
   "metadata": {},
   "outputs": [],
   "source": [
    "xc = 'pbe'"
   ]
  },
  {
   "cell_type": "code",
   "execution_count": 14,
   "metadata": {
    "scrolled": false
   },
   "outputs": [
    {
     "name": "stdout",
     "output_type": "stream",
     "text": [
      "xc =  pbe\n",
      "mol ref_results hgh-k(%) nlcc(%)\n",
      "AlF 41.030 -0.419 0.927\n",
      "\n",
      "Ar 11.938 -0.310 -100.000\n",
      "\n",
      "BF 21.406 0.312 0.519\n",
      "\n",
      "BH2Cl 31.353 0.055 -0.453\n",
      "\n",
      "BH2F 17.993 -0.134 -0.232\n",
      "\n",
      "BH3 18.279 -0.875 -0.872\n",
      "\n",
      "BHF2 17.759 -0.382 -0.545\n",
      "\n",
      "BeH2 21.622 -0.381 -100.000\n",
      "\n",
      "C2H2 24.076 -0.251 -0.360\n",
      "\n",
      "C2H4 28.737 -0.062 -0.373\n",
      "\n",
      "CH2BH 32.280 0.366 0.292\n",
      "\n",
      "CH3BH2 31.031 -0.260 -0.227\n",
      "\n",
      "CH3Cl 31.618 0.096 -0.535\n",
      "\n",
      "CH3F 17.789 -0.308 -0.565\n",
      "\n",
      "CH3NH2 27.313 -0.355 -0.443\n",
      "\n",
      "CH3OH 22.650 0.162 -0.029\n",
      "\n",
      "CH3SH 38.884 -0.208 -100.000\n",
      "\n",
      "CH4 17.478 -0.903 -1.036\n",
      "\n",
      "CO 13.665 -0.229 -0.119\n",
      "\n",
      "CO2 17.836 -0.216 -0.247\n",
      "\n",
      "CS 29.391 0.195 -100.000\n",
      "\n",
      "CSO 34.954 0.234 -100.000\n",
      "\n",
      "Cl2 31.895 -0.164 -0.951\n",
      "\n",
      "ClCN 31.994 0.254 -0.273\n",
      "\n",
      "ClF 19.293 0.492 -0.141\n",
      "\n",
      "FCN 19.278 -0.039 -0.108\n",
      "\n",
      "FNO 17.892 -0.098 -0.167\n",
      "\n",
      "H 5.594 26.046 26.012\n",
      "\n",
      "H2 5.693 -0.020 -0.057\n",
      "\n",
      "H2O 10.606 -0.385 0.235\n",
      "\n",
      "HBO 17.521 -0.293 -0.501\n",
      "\n",
      "HBS 35.238 0.404 -100.000\n",
      "\n",
      "HCCCl 38.886 0.209 -0.354\n",
      "\n",
      "HCCF 24.994 -0.216 -0.271\n",
      "\n",
      "HCHO 19.017 -0.300 -0.464\n",
      "\n",
      "HCN 17.629 -0.213 -0.308\n",
      "\n",
      "HCONH2 29.895 -0.415 -0.396\n",
      "\n",
      "HCOOH 24.249 0.186 0.097\n",
      "\n",
      "HCl 18.459 0.492 -0.456\n",
      "\n",
      "HF 6.260 -0.272 -0.411\n",
      "\n",
      "HNC 19.145 -0.123 0.005\n",
      "\n",
      "HOCl 23.747 0.532 -0.106\n",
      "\n",
      "HOOH 16.014 0.433 0.135\n",
      "\n",
      "He 1.579 -0.170 -100.000\n",
      "\n",
      "LiBH4 32.882 -0.580 -100.000\n",
      "\n",
      "LiCN 26.786 -1.371 -100.000\n",
      "\n",
      "LiCl 29.814 -0.274 -100.000\n",
      "\n",
      "LiH 33.499 -0.633 -100.000\n",
      "\n",
      "Mg 74.164 -0.903 -0.144\n",
      "\n",
      "Mg2 165.395 -1.443 -1.952\n",
      "\n",
      "N2 12.259 -0.310 -0.359\n",
      "\n",
      "N2H4 24.530 -0.087 -0.082\n",
      "\n",
      "NH2Cl 28.339 0.183 -0.402\n",
      "\n",
      "NH2F 15.960 0.165 0.015\n",
      "\n",
      "NH2OH 20.333 0.492 0.383\n",
      "\n",
      "NH3 15.490 -0.407 -0.308\n",
      "\n",
      "NH3O 24.029 -0.957 -0.777\n",
      "\n",
      "NaCN 31.897 -2.013 -100.000\n",
      "\n",
      "NaCl 37.622 -1.240 -100.000\n",
      "\n",
      "NaH 48.557 0.294 -100.000\n",
      "\n",
      "Ne 3.070 -0.497 -100.000\n",
      "\n",
      "OCl2 40.344 0.797 0.045\n",
      "\n",
      "P2H4 60.161 0.416 0.169\n",
      "\n",
      "PH2OH 35.339 0.377 0.262\n",
      "\n",
      "PH3 32.001 -0.530 -0.658\n",
      "\n",
      "PH3O 31.515 -0.286 -0.311\n",
      "\n",
      "S2H2 46.375 0.477 -100.000\n",
      "\n",
      "SCl2 53.831 -0.016 -100.000\n",
      "\n",
      "SF2 25.484 0.430 -100.000\n",
      "\n",
      "SH2 25.965 0.419 -100.000\n",
      "\n",
      "SO2 26.363 -0.264 -100.000\n",
      "\n",
      "SiH3Cl 44.346 -0.102 -0.530\n",
      "\n",
      "SiH3F 30.026 -1.098 -1.179\n",
      "\n",
      "SiH4 33.182 -0.103 -0.244\n",
      "\n",
      "SiO 30.961 -0.551 -0.474\n",
      "\n"
     ]
    }
   ],
   "source": [
    "print 'xc = ', xc\n",
    "print 'mol', 'ref_results', 'hgh-k(%)', 'nlcc(%)'\n",
    "\n",
    "for mol in computed_mol:\n",
    "    s = mol + ' '\n",
    "    data = nsp_results[mol]\n",
    "    ref = data['ref_results'][xc]\n",
    "    ref = sum(ref) / (3.0*AuToA)\n",
    "    sum\n",
    "    #s+=str(ref)\n",
    "    s+=\"{:5.3f}\".format(ref)\n",
    "    val_hgh = 100. * (get_study_avgAlpha(data['results'],xc,'hgh-k') - ref) / ref \n",
    "    val_nlcc = 100. * (get_study_avgAlpha(data['results'],xc,'nlcc') - ref) / ref\n",
    "    s+= ' ' + \"{:5.3f}\".format(val_hgh) + ' ' + \"{:5.3f}\".format(val_nlcc)\n",
    "    print s\n",
    "    print ''"
   ]
  },
  {
   "cell_type": "markdown",
   "metadata": {},
   "source": [
    "for H is about 25% !!!!!!!"
   ]
  },
  {
   "cell_type": "code",
   "execution_count": null,
   "metadata": {},
   "outputs": [],
   "source": []
  }
 ],
 "metadata": {
  "kernelspec": {
   "display_name": "Python 2",
   "language": "python",
   "name": "python2"
  },
  "language_info": {
   "codemirror_mode": {
    "name": "ipython",
    "version": 2
   },
   "file_extension": ".py",
   "mimetype": "text/x-python",
   "name": "python",
   "nbconvert_exporter": "python",
   "pygments_lexer": "ipython2",
   "version": "2.7.15rc1"
  }
 },
 "nbformat": 4,
 "nbformat_minor": 2
}
