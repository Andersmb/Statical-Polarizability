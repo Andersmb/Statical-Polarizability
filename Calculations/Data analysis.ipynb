{
 "cells": [
  {
   "cell_type": "code",
   "execution_count": 1,
   "metadata": {},
   "outputs": [
    {
     "name": "stdout",
     "output_type": "stream",
     "text": [
      "Routines basepath : /home/marco/Data/RICERCA/LINEAR RESPONSE/Statical polarizability/Analysis/Calculations and data analysis\n"
     ]
    }
   ],
   "source": [
    "from BigDFT import Datasets as D, Calculators as C, Inputfiles as I, Logfiles as lf\n",
    "from BigDFT.Database import Molecules\n",
    "from futile.Utils import write\n",
    "import numpy as np\n",
    "import matplotlib.pyplot as plt\n",
    "import os, sys, yaml\n",
    "sys.path.insert(0,'../')\n",
    "import StatPol as SP, Routines as R\n",
    "\n",
    "basepath = os.getcwd()\n",
    "\n",
    "AuToA = 0.5291772085**3"
   ]
  },
  {
   "cell_type": "markdown",
   "metadata": {},
   "source": [
    "## Data analysis"
   ]
  },
  {
   "cell_type": "code",
   "execution_count": 2,
   "metadata": {},
   "outputs": [],
   "source": [
    "nsp_results = yaml.load(open('nsp_results.yaml'))\n",
    "#nsp_results"
   ]
  },
  {
   "cell_type": "code",
   "execution_count": 4,
   "metadata": {},
   "outputs": [
    {
     "name": "stdout",
     "output_type": "stream",
     "text": [
      "25\n"
     ]
    },
    {
     "data": {
      "text/plain": [
       "['AlF',\n",
       " 'Ar',\n",
       " 'BF',\n",
       " 'BH2Cl',\n",
       " 'BH2F',\n",
       " 'BH3',\n",
       " 'BHF2',\n",
       " 'BeH2',\n",
       " 'C2H2',\n",
       " 'C2H4',\n",
       " 'CH2BH',\n",
       " 'CH3BH2',\n",
       " 'CH3Cl',\n",
       " 'CH3F',\n",
       " 'CH3NH2',\n",
       " 'CH3OH',\n",
       " 'CH3SH',\n",
       " 'CH4',\n",
       " 'CO',\n",
       " 'CO2',\n",
       " 'H2O',\n",
       " 'HCl',\n",
       " 'Mg',\n",
       " 'Mg2',\n",
       " 'N2']"
      ]
     },
     "execution_count": 4,
     "metadata": {},
     "output_type": "execute_result"
    }
   ],
   "source": [
    "# Build the list of molecules for which the 'results' key is provided\n",
    "computed_mol = []\n",
    "for mol,data in nsp_results.iteritems():\n",
    "    if 'results' in data:\n",
    "        computed_mol.append(mol)\n",
    "computed_mol.sort()\n",
    "print len(computed_mol)\n",
    "computed_mol"
   ]
  },
  {
   "cell_type": "markdown",
   "metadata": {},
   "source": [
    "Several type of data analysis can be done. For instance"
   ]
  },
  {
   "cell_type": "markdown",
   "metadata": {},
   "source": [
    "We choose a xc and compute (for all the molecule for which results have been computed) the difference the ref_results and the ones obtained with the allowed psp's"
   ]
  },
  {
   "cell_type": "code",
   "execution_count": 24,
   "metadata": {},
   "outputs": [
    {
     "data": {
      "text/plain": [
       "[1.856, 1.856, 2.363]"
      ]
     },
     "execution_count": 24,
     "metadata": {},
     "output_type": "execute_result"
    }
   ],
   "source": [
    "xc = 'pbe'\n",
    "data = nsp_results['CO']\n",
    "ref = data['ref_results'][xc]\n",
    "ref"
   ]
  },
  {
   "cell_type": "code",
   "execution_count": 30,
   "metadata": {},
   "outputs": [
    {
     "name": "stdout",
     "output_type": "stream",
     "text": [
      "['hgh-k', 'nlcc']\n"
     ]
    }
   ],
   "source": [
    "# extract the all the results with xc\n",
    "psps = []\n",
    "for s in data['study']:\n",
    "    if s[0]==xc:\n",
    "        psps.append(s[1])\n",
    "print psps"
   ]
  },
  {
   "cell_type": "code",
   "execution_count": 42,
   "metadata": {},
   "outputs": [
    {
     "name": "stdout",
     "output_type": "stream",
     "text": [
      "[[ 1.25060100e+01 -1.50890000e-05 -2.85740000e-05]\n",
      " [-1.50890000e-05  1.25060100e+01 -2.85740000e-05]\n",
      " [-2.70000000e-05 -2.70000000e-05  1.58900495e+01]]\n",
      "[[ 1.25368250e+01 -1.58955000e-05 -2.55350000e-05]\n",
      " [-1.58955000e-05  1.25368250e+01 -2.55350000e-05]\n",
      " [-4.40000000e-05 -4.40000000e-05  1.58737875e+01]]\n"
     ]
    }
   ],
   "source": [
    "# extract the converged results of alpha associate to each allowed study\n",
    "\n",
    "for psp in psps:\n",
    "    results = data['results'][xc,psp]['rmult_conv']\n",
    "    conv_val = results['converged_value']\n",
    "    alpha = results['results'][conv_val]\n",
    "    print alpha"
   ]
  },
  {
   "cell_type": "code",
   "execution_count": null,
   "metadata": {},
   "outputs": [],
   "source": []
  },
  {
   "cell_type": "code",
   "execution_count": null,
   "metadata": {},
   "outputs": [],
   "source": []
  },
  {
   "cell_type": "code",
   "execution_count": null,
   "metadata": {},
   "outputs": [],
   "source": []
  },
  {
   "cell_type": "code",
   "execution_count": 13,
   "metadata": {},
   "outputs": [],
   "source": [
    "for mol in computed_mol:\n",
    "    data = nsp_results[mol]['results']"
   ]
  },
  {
   "cell_type": "code",
   "execution_count": 14,
   "metadata": {},
   "outputs": [
    {
     "data": {
      "text/plain": [
       "{('lda',\n",
       "  'hgh-k'): {'field_conv': {'converged': True,\n",
       "   'converged_value': 0.01,\n",
       "   'label': 'field_int',\n",
       "   'results': {0.0005: None,\n",
       "    0.001: None,\n",
       "    0.005: matrix([[ 1.0510535e+01, -1.2548000e-04, -9.7510000e-05],\n",
       "            [-1.2548000e-04,  1.0510535e+01, -9.7510000e-05],\n",
       "            [-4.7960000e-05, -4.7960000e-05,  1.5078189e+01]]),\n",
       "    0.01: matrix([[ 1.051914e+01, -1.236400e-04, -9.836500e-05],\n",
       "            [-1.236400e-04,  1.051914e+01, -9.836500e-05],\n",
       "            [-6.570000e-05, -6.570000e-05,  1.509147e+01]])},\n",
       "   'values': [0.01, 0.005, 0.001, 0.0005]}, 'gs_conv': {'converged': True,\n",
       "   'converged_value': 5.0,\n",
       "   'label': 'rmult',\n",
       "   'results': {3.0: -19.839933508992686,\n",
       "    4.0: -19.885289313084087,\n",
       "    5.0: -19.888866392556345,\n",
       "    6.0: -19.889161787439456,\n",
       "    7.0: None,\n",
       "    8.0: None,\n",
       "    9.0: None,\n",
       "    10.0: None,\n",
       "    11.0: None},\n",
       "   'values': [3.0,\n",
       "    4.0,\n",
       "    5.0,\n",
       "    6.0,\n",
       "    7.0,\n",
       "    8.0,\n",
       "    9.0,\n",
       "    10.0,\n",
       "    11.0]}, 'rmult_conv': {'converged': True,\n",
       "   'converged_value': 6.0,\n",
       "   'label': 'rmult',\n",
       "   'results': {5.0: matrix([[ 1.051914e+01, -1.236400e-04, -9.836500e-05],\n",
       "            [-1.236400e-04,  1.051914e+01, -9.836500e-05],\n",
       "            [-6.570000e-05, -6.570000e-05,  1.509147e+01]]),\n",
       "    6.0: matrix([[ 1.0709520e+01, -2.9926500e-05, -1.8893500e-05],\n",
       "            [-2.9926500e-05,  1.0709520e+01, -1.8893500e-05],\n",
       "            [-3.8989500e-05, -3.8989500e-05,  1.5312885e+01]]),\n",
       "    7.0: matrix([[ 1.0746405e+01, -5.7608000e-06, -3.6540500e-06],\n",
       "            [-5.7608000e-06,  1.0746405e+01, -3.6540500e-06],\n",
       "            [-1.8604500e-05, -1.8604500e-05,  1.5356855e+01]]),\n",
       "    8.0: None,\n",
       "    9.0: None,\n",
       "    10.0: None,\n",
       "    11.0: None},\n",
       "   'values': [5.0, 6.0, 7.0, 8.0, 9.0, 10.0, 11.0]}},\n",
       " ('pbe',\n",
       "  'hgh-k'): {'field_conv': {'converged': True,\n",
       "   'converged_value': 0.01,\n",
       "   'label': 'field_int',\n",
       "   'results': {0.0005: None,\n",
       "    0.001: None,\n",
       "    0.005: matrix([[ 1.0431628e+01, -1.2693000e-04, -9.9000000e-05],\n",
       "            [-1.2693000e-04,  1.0431628e+01, -9.9000000e-05],\n",
       "            [-5.0720000e-05, -5.0720000e-05,  1.5124055e+01]]),\n",
       "    0.01: matrix([[ 1.0440120e+01, -1.2549500e-04, -9.4145000e-05],\n",
       "            [-1.2549500e-04,  1.0440120e+01, -9.4145000e-05],\n",
       "            [-6.7240000e-05, -6.7240000e-05,  1.5137405e+01]])},\n",
       "   'values': [0.01, 0.005, 0.001, 0.0005]}, 'gs_conv': {'converged': True,\n",
       "   'converged_value': 5.0,\n",
       "   'label': 'rmult',\n",
       "   'results': {3.0: -19.861170932553378,\n",
       "    4.0: -19.906623916385577,\n",
       "    5.0: -19.91031516141677,\n",
       "    6.0: -19.91062870028518,\n",
       "    7.0: None,\n",
       "    8.0: None,\n",
       "    9.0: None,\n",
       "    10.0: None,\n",
       "    11.0: None},\n",
       "   'values': [3.0,\n",
       "    4.0,\n",
       "    5.0,\n",
       "    6.0,\n",
       "    7.0,\n",
       "    8.0,\n",
       "    9.0,\n",
       "    10.0,\n",
       "    11.0]}, 'rmult_conv': {'converged': True,\n",
       "   'converged_value': 6.0,\n",
       "   'label': 'rmult',\n",
       "   'results': {5.0: matrix([[ 1.0440120e+01, -1.2549500e-04, -9.4145000e-05],\n",
       "            [-1.2549500e-04,  1.0440120e+01, -9.4145000e-05],\n",
       "            [-6.7240000e-05, -6.7240000e-05,  1.5137405e+01]]),\n",
       "    6.0: matrix([[ 1.0644200e+01, -3.3067000e-05, -2.3795000e-05],\n",
       "            [-3.3067000e-05,  1.0644200e+01, -2.3795000e-05],\n",
       "            [-4.0454000e-05, -4.0454000e-05,  1.5376015e+01]]),\n",
       "    7.0: matrix([[ 1.0685050e+01, -6.1295000e-06, -5.3801500e-06],\n",
       "            [-6.1295000e-06,  1.0685050e+01, -5.3801500e-06],\n",
       "            [-1.4350850e-05, -1.4350850e-05,  1.5424805e+01]]),\n",
       "    8.0: None,\n",
       "    9.0: None,\n",
       "    10.0: None,\n",
       "    11.0: None},\n",
       "   'values': [5.0, 6.0, 7.0, 8.0, 9.0, 10.0, 11.0]}},\n",
       " ('pbe',\n",
       "  'nlcc'): {'field_conv': {'converged': True,\n",
       "   'converged_value': 0.01,\n",
       "   'label': 'field_int',\n",
       "   'results': {0.0005: None,\n",
       "    0.001: None,\n",
       "    0.005: matrix([[ 1.0441192e+01, -1.2708000e-04, -9.2540000e-05],\n",
       "            [-1.2708000e-04,  1.0441192e+01, -9.2540000e-05],\n",
       "            [-6.3830000e-05, -6.3830000e-05,  1.5083228e+01]]),\n",
       "    0.01: matrix([[ 1.0449685e+01, -1.2575500e-04, -8.3870000e-05],\n",
       "            [-1.2575500e-04,  1.0449685e+01, -8.3870000e-05],\n",
       "            [-6.8485000e-05, -6.8485000e-05,  1.5096670e+01]])},\n",
       "   'values': [0.01, 0.005, 0.001, 0.0005]}, 'gs_conv': {'converged': True,\n",
       "   'converged_value': 5.0,\n",
       "   'label': 'rmult',\n",
       "   'results': {3.0: -22.663247825107277,\n",
       "    4.0: -22.70879344484313,\n",
       "    5.0: -22.71249609106765,\n",
       "    6.0: -22.712812627002414,\n",
       "    7.0: None,\n",
       "    8.0: None,\n",
       "    9.0: None,\n",
       "    10.0: None,\n",
       "    11.0: None},\n",
       "   'values': [3.0,\n",
       "    4.0,\n",
       "    5.0,\n",
       "    6.0,\n",
       "    7.0,\n",
       "    8.0,\n",
       "    9.0,\n",
       "    10.0,\n",
       "    11.0]}, 'rmult_conv': {'converged': True,\n",
       "   'converged_value': 6.0,\n",
       "   'label': 'rmult',\n",
       "   'results': {5.0: matrix([[ 1.0449685e+01, -1.2575500e-04, -8.3870000e-05],\n",
       "            [-1.2575500e-04,  1.0449685e+01, -8.3870000e-05],\n",
       "            [-6.8485000e-05, -6.8485000e-05,  1.5096670e+01]]),\n",
       "    6.0: matrix([[ 1.065447e+01, -3.292700e-05, -2.266600e-05],\n",
       "            [-3.292700e-05,  1.065447e+01, -2.266600e-05],\n",
       "            [-4.681100e-05, -4.681100e-05,  1.533763e+01]]),\n",
       "    7.0: matrix([[ 1.0695540e+01, -5.3679500e-06,  8.2741000e-06],\n",
       "            [-5.3679500e-06,  1.0695540e+01,  8.2741000e-06],\n",
       "            [-1.8449050e-05, -1.8449050e-05,  1.5387165e+01]]),\n",
       "    8.0: None,\n",
       "    9.0: None,\n",
       "    10.0: None,\n",
       "    11.0: None},\n",
       "   'values': [5.0, 6.0, 7.0, 8.0, 9.0, 10.0, 11.0]}}}"
      ]
     },
     "execution_count": 14,
     "metadata": {},
     "output_type": "execute_result"
    }
   ],
   "source": [
    "data"
   ]
  },
  {
   "cell_type": "code",
   "execution_count": null,
   "metadata": {},
   "outputs": [],
   "source": []
  },
  {
   "cell_type": "code",
   "execution_count": null,
   "metadata": {},
   "outputs": [],
   "source": []
  },
  {
   "cell_type": "code",
   "execution_count": null,
   "metadata": {},
   "outputs": [],
   "source": []
  },
  {
   "cell_type": "code",
   "execution_count": null,
   "metadata": {},
   "outputs": [],
   "source": []
  },
  {
   "cell_type": "code",
   "execution_count": null,
   "metadata": {},
   "outputs": [],
   "source": []
  },
  {
   "cell_type": "code",
   "execution_count": null,
   "metadata": {},
   "outputs": [],
   "source": [
    "################################################################################################"
   ]
  },
  {
   "cell_type": "markdown",
   "metadata": {},
   "source": [
    "We build a table with the (converged) values of the average polarizability for all the studies "
   ]
  },
  {
   "cell_type": "code",
   "execution_count": 5,
   "metadata": {},
   "outputs": [
    {
     "name": "stdout",
     "output_type": "stream",
     "text": [
      "Mg ('lda', 'hgh-k') alpha(AU) = 71.8717 alpha(A) = 10.650 r_conv =  8.0 f_conv =  0.005\n",
      "Mg ('pbe', 'hgh-k') alpha(AU) = 73.4948 alpha(A) = 10.891 r_conv =  8.0 f_conv =  0.005\n",
      "CO ('lda', 'hgh-k') alpha(AU) = 13.7103 alpha(A) = 2.032 r_conv =  6.0 f_conv =  0.01\n",
      "CO ('pbe', 'hgh-k') alpha(AU) = 13.6340 alpha(A) = 2.020 r_conv =  6.0 f_conv =  0.01\n",
      "Ne ('lda', 'hgh-k') alpha(AU) = 3.0331 alpha(A) = 0.449 r_conv =  7.0 f_conv =  0.01\n",
      "Ne ('pbe', 'hgh-k') alpha(AU) = 3.0552 alpha(A) = 0.453 r_conv =  7.0 f_conv =  0.01\n",
      "NaCl ('lda', 'hgh-k') alpha(AU) = 35.5620 alpha(A) = 5.270 r_conv =  7.0 f_conv =  0.001\n",
      "NaCl ('pbe', 'hgh-k') alpha(AU) = 37.1554 alpha(A) = 5.506 r_conv =  7.0 f_conv =  0.001\n",
      "Mg2 ('lda', 'hgh-k') alpha(AU) = 158.0223 alpha(A) = 23.416 r_conv =  7.0 f_conv =  0.001\n",
      "Mg2 ('pbe', 'hgh-k') alpha(AU) = 163.0076 alpha(A) = 24.155 r_conv =  8.0 f_conv =  0.001\n",
      "H2O ('lda', 'hgh-k') alpha(AU) = 10.5996 alpha(A) = 1.571 r_conv =  6.0 f_conv =  0.01\n",
      "H2O ('pbe', 'hgh-k') alpha(AU) = 10.5653 alpha(A) = 1.566 r_conv =  6.0 f_conv =  0.01\n",
      "Ar ('lda', 'hgh-k') alpha(AU) = 11.9710 alpha(A) = 1.774 r_conv =  7.0 f_conv =  0.01\n",
      "Ar ('pbe', 'hgh-k') alpha(AU) = 11.9008 alpha(A) = 1.764 r_conv =  7.0 f_conv =  0.01\n",
      "CH4 ('lda', 'hgh-k') alpha(AU) = 17.6507 alpha(A) = 2.616 r_conv =  5.0 f_conv =  0.01\n",
      "CH4 ('pbe', 'hgh-k') alpha(AU) = 17.3204 alpha(A) = 2.567 r_conv =  5.0 f_conv =  0.01\n",
      "N2 ('lda', 'hgh-k') alpha(AU) = 12.2440 alpha(A) = 1.814 r_conv =  6.0 f_conv =  0.01\n",
      "N2 ('pbe', 'hgh-k') alpha(AU) = 12.2215 alpha(A) = 1.811 r_conv =  6.0 f_conv =  0.01\n",
      "HF ('lda', 'hgh-k') alpha(AU) = 6.2226 alpha(A) = 0.922 r_conv =  6.0 f_conv =  0.01\n",
      "HF ('pbe', 'hgh-k') alpha(AU) = 6.2432 alpha(A) = 0.925 r_conv =  6.0 f_conv =  0.01\n",
      "HCl ('lda', 'hgh-k') alpha(AU) = 18.6543 alpha(A) = 2.764 r_conv =  7.0 f_conv =  0.01\n",
      "HCl ('pbe', 'hgh-k') alpha(AU) = 18.5498 alpha(A) = 2.749 r_conv =  8.0 f_conv =  0.01\n",
      "He ('lda', 'hgh-k') alpha(AU) = 1.6505 alpha(A) = 0.245 r_conv =  7.0 f_conv =  0.01\n",
      "He ('pbe', 'hgh-k') alpha(AU) = 1.5764 alpha(A) = 0.234 r_conv =  7.0 f_conv =  0.01\n"
     ]
    }
   ],
   "source": [
    "AuToA = 0.5291772085**3\n",
    "for mol,val in set.iteritems():\n",
    "    for par in val:\n",
    "        f_conv = val[par]['field_conv']['converged_value']\n",
    "        r_conv = val[par]['rmult_conv']['converged_value']\n",
    "        alpha = val[par]['rmult_conv']['results'][r_conv]\n",
    "        alpha_avg = SP.eval_alpha_avg(alpha)\n",
    "        print mol, par, 'alpha(AU) =',\"{:5.4f}\".format(alpha_avg),\\\n",
    "        'alpha(A) =',\"{:4.3f}\".format(alpha_avg*AuToA), 'r_conv = ', r_conv, 'f_conv = ', f_conv\n",
    "    "
   ]
  },
  {
   "cell_type": "code",
   "execution_count": null,
   "metadata": {},
   "outputs": [],
   "source": []
  },
  {
   "cell_type": "code",
   "execution_count": null,
   "metadata": {},
   "outputs": [],
   "source": []
  }
 ],
 "metadata": {
  "kernelspec": {
   "display_name": "Python 2",
   "language": "python",
   "name": "python2"
  },
  "language_info": {
   "codemirror_mode": {
    "name": "ipython",
    "version": 2
   },
   "file_extension": ".py",
   "mimetype": "text/x-python",
   "name": "python",
   "nbconvert_exporter": "python",
   "pygments_lexer": "ipython2",
   "version": "2.7.15rc1"
  }
 },
 "nbformat": 4,
 "nbformat_minor": 2
}
