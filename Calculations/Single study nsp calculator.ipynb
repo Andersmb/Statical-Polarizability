{
 "cells": [
  {
   "cell_type": "code",
   "execution_count": 1,
   "metadata": {},
   "outputs": [
    {
     "name": "stdout",
     "output_type": "stream",
     "text": [
      "/home/marco/Data/RICERCA/DFT AND MANY BODY/LR MOLECULES/Statical polarizability/Analysis/Calculations\n"
     ]
    }
   ],
   "source": [
    "from BigDFT import Datasets as D, Calculators as C, Inputfiles as I, Logfiles as lf\n",
    "from BigDFT.Database import Molecules\n",
    "from futile.Utils import write\n",
    "import numpy as np\n",
    "import matplotlib.pyplot as plt\n",
    "import os, sys\n",
    "sys.path.insert(0,'../')\n",
    "from shutil import copyfile\n",
    "import StatPol as SP, Routines as R\n",
    "\n",
    "basepath = os.getcwd()\n",
    "psp_nlcc_aw_path = basepath+'/psp_nlcc_aw'\n",
    "psp_nlcc_ss_path = basepath+'/psp_nlcc_ss'"
   ]
  },
  {
   "cell_type": "markdown",
   "metadata": {},
   "source": [
    "## Computation of the statical polarizability for a single study (of the nsp type)"
   ]
  },
  {
   "cell_type": "markdown",
   "metadata": {},
   "source": [
    "Discuss the workflow to compute the statical polarizability of a specific study defined by the molecule type, the xc and the psp. \n",
    "\n",
    "We define the molecule type, build the appropriate folder and move there"
   ]
  },
  {
   "cell_type": "code",
   "execution_count": 2,
   "metadata": {},
   "outputs": [
    {
     "name": "stdout",
     "output_type": "stream",
     "text": [
      "/home/marco/Data/RICERCA/DFT AND MANY BODY/LR MOLECULES/Statical polarizability/Analysis/Calculations/Data/CO\n"
     ]
    }
   ],
   "source": [
    "os.chdir(basepath)\n",
    "molecule = 'CO'\n",
    "\n",
    "if not os.path.isdir('Data'): os.mkdir('Data')\n",
    "os.chdir('Data')\n",
    "if not os.path.isdir(molecule): os.mkdir(molecule)\n",
    "os.chdir(molecule)\n",
    "sys.path.insert(1,'../../../')\n",
    "\n",
    "print os.getcwd()"
   ]
  },
  {
   "cell_type": "markdown",
   "metadata": {},
   "source": [
    "Set some global parameters"
   ]
  },
  {
   "cell_type": "code",
   "execution_count": 3,
   "metadata": {},
   "outputs": [],
   "source": [
    "wf_convergence = 1.0e-6\n",
    "hgrids = 0.3\n",
    "rmult_fine = 9.0"
   ]
  },
  {
   "cell_type": "code",
   "execution_count": 4,
   "metadata": {},
   "outputs": [],
   "source": [
    "posinp=Molecules.Molecule(molecule)\n",
    "#posinp"
   ]
  },
  {
   "cell_type": "code",
   "execution_count": 5,
   "metadata": {},
   "outputs": [
    {
     "name": "stdout",
     "output_type": "stream",
     "text": [
      "Initialize a Calculator with OMP_NUM_THREADS=2 and command mpirun -np 4 /home/marco/Applications/BigDFT/binaries/v1.8.3/install/bin/bigdft\n"
     ]
    }
   ],
   "source": [
    "code=C.SystemCalculator(omp=2,mpi_run='mpirun -np 4',skip=True)"
   ]
  },
  {
   "cell_type": "code",
   "execution_count": 6,
   "metadata": {},
   "outputs": [
    {
     "name": "stdout",
     "output_type": "stream",
     "text": [
      "{'dft': {'rmult': [3.0, 9.0], 'gnrm_cv': 1e-06, 'hgrids': 0.3, 'ixc': '-406'}, 'psppar.C': {'Pseudopotential XC': 11}, 'psppar.O': {'Pseudopotential XC': 11}}\n",
      "Creating the yaml input file \"pbe0-hgh_k-test/test.yaml\"\n",
      "Run directory pbe0-hgh_k-test\n",
      "Executing command:  mpirun -np 4 /home/marco/Applications/BigDFT/binaries/v1.8.3/install/bin/bigdft -n test -s Yes\n"
     ]
    },
    {
     "data": {
      "text/plain": [
       "<BigDFT.Logfiles.Logfile instance at 0x7f4b19c64908>"
      ]
     },
     "execution_count": 6,
     "metadata": {},
     "output_type": "execute_result"
    }
   ],
   "source": [
    "# Test of a single run to check if the way to attribute xc and psp works correctly. The xc_pbe_nlcc_aw and \n",
    "# xc_pbe_nlcc_ss methods have to be slightly modified to add the ''-test' in the folder name.\n",
    "\n",
    "study = ('pbe', 'hgh_k')\n",
    "path=study[0]+'-'+study[1]+'-'+'test'\n",
    "if not os.path.isdir(path): os.mkdir(path)\n",
    "path\n",
    "\n",
    "inp = I.Inputfile()\n",
    "inp.set_hgrid(hgrids)\n",
    "inp.set_rmult(coarse=3.0,fine=rmult_fine)\n",
    "R.set_xc[study](inp,molecule)\n",
    "inp.set_wavefunction_convergence(wf_convergence)\n",
    "print inp\n",
    "\n",
    "code.run(input=inp,posinp=posinp,run_dir=path,name='test')"
   ]
  },
  {
   "cell_type": "markdown",
   "metadata": {},
   "source": [
    "Execute the complete convergence procedure.\n",
    "\n",
    "Set the study type build the folder associated to the study and define the path variable"
   ]
  },
  {
   "cell_type": "code",
   "execution_count": 23,
   "metadata": {},
   "outputs": [
    {
     "data": {
      "text/plain": [
       "'lda_pw-hgh_k'"
      ]
     },
     "execution_count": 23,
     "metadata": {},
     "output_type": "execute_result"
    }
   ],
   "source": [
    "study = ('lda_pw', 'hgh_k')\n",
    "path=study[0]+'-'+study[1]\n",
    "if not os.path.isdir(path): os.mkdir(path)\n",
    "path"
   ]
  },
  {
   "cell_type": "markdown",
   "metadata": {},
   "source": [
    "Build a dictionary to collect the results of the analysis"
   ]
  },
  {
   "cell_type": "code",
   "execution_count": 24,
   "metadata": {},
   "outputs": [],
   "source": [
    "results = {}"
   ]
  },
  {
   "cell_type": "markdown",
   "metadata": {},
   "source": [
    "Perform a convergence study for the gs. Use the value of the total energy (or the value of the gs dipole) to set the dimension of the box"
   ]
  },
  {
   "cell_type": "code",
   "execution_count": 25,
   "metadata": {},
   "outputs": [
    {
     "name": "stdout",
     "output_type": "stream",
     "text": [
      "{'dft': {'ixc': '-025', 'hgrids': 0.3, 'gnrm_cv': 1e-06}, 'psppar.C': {'Pseudopotential XC': 1}, 'psppar.O': {'Pseudopotential XC': 1}}\n",
      "Perform the run with rmult 3.0\n",
      "Perform the run with rmult 4.0\n",
      "Convergence for rmult 3.0 failed\n",
      "Perform the run with rmult 5.0\n",
      "Convergence for rmult 4.0 failed\n",
      "Perform the run with rmult 6.0\n",
      "Convergence for rmult 5.0 failed\n",
      "Perform the run with rmult 7.0\n",
      "Convergence achieved for rmult 6.0\n"
     ]
    },
    {
     "data": {
      "text/plain": [
       "{'gs_conv': {'converged': True,\n",
       "  'converged_value': 6.0,\n",
       "  'label': 'rmult',\n",
       "  'results': {3.0: -17.54171726397047,\n",
       "   4.0: -17.656907585591377,\n",
       "   5.0: -17.675653608301047,\n",
       "   6.0: -17.67923997786375,\n",
       "   7.0: -17.679979375739208,\n",
       "   8.0: None,\n",
       "   9.0: None,\n",
       "   10.0: None,\n",
       "   11.0: None},\n",
       "  'values': [3.0, 4.0, 5.0, 6.0, 7.0, 8.0, 9.0, 10.0, 11.0]}}"
      ]
     },
     "execution_count": 25,
     "metadata": {},
     "output_type": "execute_result"
    }
   ],
   "source": [
    "reload(SP)\n",
    "rtol=10*wf_convergence #relative tolerance for the gs convergence using the total energy as control quantity\n",
    "\n",
    "inp = I.Inputfile()\n",
    "inp.set_hgrid(hgrids)\n",
    "R.set_xc[study](inp,molecule)\n",
    "inp.set_wavefunction_convergence(wf_convergence)\n",
    "print inp\n",
    "\n",
    "rmult_coarse = [1.0*i for i in range(3,12)]\n",
    "data = []\n",
    "code.update_global_options(verbose=False)\n",
    "for r in rmult_coarse:\n",
    "    gs_study = D.Dataset(label=molecule+'_GS',run_dir=path,posinp=posinp)\n",
    "    gs_study.set_postprocessing_function(SP.get_energy)\n",
    "    #gs_study.set_postprocessing_function(SP.get_dipole)\n",
    "    inp.set_rmult(coarse=r,fine=rmult_fine)\n",
    "    idd={'rmult':r}\n",
    "    gs_study.append_run(id=idd,runner=code,input=inp)\n",
    "    data.append(gs_study)\n",
    "    \n",
    "results['gs_conv'] = SP.seek_convergence(rt=rtol,label='rmult',values=rmult_coarse,data=data)\n",
    "results"
   ]
  },
  {
   "cell_type": "markdown",
   "metadata": {},
   "source": [
    "It emerges that the convergence performed with the energy is less demanding that the one done with the dipole!"
   ]
  },
  {
   "cell_type": "markdown",
   "metadata": {},
   "source": [
    "Convergence flow for the calculation of alpha: take the rmult of the gs convergence. Perform the field convergence with this value of rmult and finally perform the rmult convergence for alpha using the converged value of the field"
   ]
  },
  {
   "cell_type": "code",
   "execution_count": 26,
   "metadata": {},
   "outputs": [
    {
     "name": "stdout",
     "output_type": "stream",
     "text": [
      "{'dft': {'ixc': '-025', 'rmult': [6.0, 9.0], 'hgrids': 0.3, 'gnrm_cv': 1e-06}, 'psppar.C': {'Pseudopotential XC': 1}, 'psppar.O': {'Pseudopotential XC': 1}}\n",
      "Perform the run with field_int 0.01\n",
      "Perform the run with field_int 0.005\n",
      "Convergence for field_int 0.01 failed\n",
      "Perform the run with field_int 0.001\n",
      "Convergence achieved for field_int 0.005\n",
      "\n",
      "Perform the run with rmult 6.0\n",
      "Perform the run with rmult 7.0\n",
      "Convergence for rmult 6.0 failed\n",
      "Perform the run with rmult 8.0\n",
      "Convergence for rmult 7.0 failed\n",
      "Perform the run with rmult 9.0\n",
      "Convergence for rmult 8.0 failed\n",
      "Perform the run with rmult 10.0\n",
      "Convergence for rmult 9.0 failed\n",
      "Perform the run with rmult 11.0\n",
      "Convergence achieved for rmult 10.0\n"
     ]
    }
   ],
   "source": [
    "rtol=1e-2 #relative tolerance for the alpha convergence\n",
    "\n",
    "gs_conv = results['gs_conv']['converged_value']\n",
    "inp.set_rmult(coarse=gs_conv,fine=rmult_fine)\n",
    "print inp\n",
    "\n",
    "results['field_conv']=SP.perform_field_convergence(rt=rtol,run_dir=path,input=inp,\\\n",
    "                      runner=code,posinp=posinp,ppf=SP.eval_alpha)\n",
    "print ''\n",
    "\n",
    "f=results['field_conv']['converged_value']\n",
    "\n",
    "rmult_list=SP.build_rmult_list([gs_conv,rmult_fine])\n",
    "results['rmult_conv']=SP.perform_rmult_convergence(rt=rtol,run_dir=path,intensity=f,\\\n",
    "                      rmult=rmult_list,input=inp,runner=code,posinp=posinp,ppf=SP.eval_alpha)"
   ]
  },
  {
   "cell_type": "code",
   "execution_count": 27,
   "metadata": {},
   "outputs": [
    {
     "name": "stdout",
     "output_type": "stream",
     "text": [
      "[[ 3.833616e+01  2.633000e-06  1.833260e-04]\n",
      " [ 2.633000e-06  3.833616e+01  1.833260e-04]\n",
      " [-2.000000e-05 -2.000000e-05  4.505934e+01]]\n",
      "40.577220000000004\n"
     ]
    }
   ],
   "source": [
    "r_conv = results['rmult_conv']['converged_value']\n",
    "alpha_final = results['rmult_conv']['results'][r_conv]\n",
    "print alpha_final\n",
    "print SP.eval_alpha_avg(alpha_final)"
   ]
  },
  {
   "cell_type": "code",
   "execution_count": 11,
   "metadata": {},
   "outputs": [
    {
     "data": {
      "text/plain": [
       "{'field_conv': {'converged': True,\n",
       "  'converged_value': 0.01,\n",
       "  'label': 'field_int',\n",
       "  'results': {0.0005: None,\n",
       "   0.001: None,\n",
       "   0.005: matrix([[ 1.1562125e+01, -2.3420000e-04,  7.6490000e-04],\n",
       "           [-2.3420000e-04,  1.1562125e+01,  7.6490000e-04],\n",
       "           [ 7.4000000e-04,  7.4000000e-04,  1.4590437e+01]]),\n",
       "   0.01: matrix([[ 1.15697350e+01, -2.31200000e-04,  7.33350000e-04],\n",
       "           [-2.31200000e-04,  1.15697350e+01,  7.33350000e-04],\n",
       "           [ 7.20000000e-04,  7.20000000e-04,  1.45987205e+01]])},\n",
       "  'values': [0.01, 0.005, 0.001, 0.0005]},\n",
       " 'gs_conv': {'converged': True,\n",
       "  'converged_value': 4.0,\n",
       "  'label': 'rmult',\n",
       "  'results': {3.0: -21.647432719091135,\n",
       "   4.0: -21.686119057427582,\n",
       "   5.0: -21.688925095752793,\n",
       "   6.0: None,\n",
       "   7.0: None,\n",
       "   8.0: None,\n",
       "   9.0: None,\n",
       "   10.0: None,\n",
       "   11.0: None},\n",
       "  'values': [3.0, 4.0, 5.0, 6.0, 7.0, 8.0, 9.0, 10.0, 11.0]},\n",
       " 'rmult_conv': {'converged': True,\n",
       "  'converged_value': 6.0,\n",
       "  'label': 'rmult',\n",
       "  'results': {4.0: matrix([[ 1.15697350e+01, -2.31200000e-04,  7.33350000e-04],\n",
       "           [-2.31200000e-04,  1.15697350e+01,  7.33350000e-04],\n",
       "           [ 7.20000000e-04,  7.20000000e-04,  1.45987205e+01]]),\n",
       "   5.0: matrix([[ 1.23359450e+01, -7.86150000e-05,  4.92250000e-05],\n",
       "           [-7.86150000e-05,  1.23359450e+01,  4.92250000e-05],\n",
       "           [ 4.40000000e-05,  4.40000000e-05,  1.56252345e+01]]),\n",
       "   6.0: matrix([[ 1.25060100e+01, -1.50890000e-05, -2.85740000e-05],\n",
       "           [-1.50890000e-05,  1.25060100e+01, -2.85740000e-05],\n",
       "           [-2.70000000e-05, -2.70000000e-05,  1.58900495e+01]]),\n",
       "   7.0: matrix([[ 1.2535180e+01, -4.4385000e-07, -2.6319000e-06],\n",
       "           [-4.4385000e-07,  1.2535180e+01, -2.6319000e-06],\n",
       "           [ 0.0000000e+00,  0.0000000e+00,  1.5939069e+01]]),\n",
       "   8.0: None,\n",
       "   9.0: None,\n",
       "   10.0: None,\n",
       "   11.0: None},\n",
       "  'values': [4.0, 5.0, 6.0, 7.0, 8.0, 9.0, 10.0, 11.0]}}"
      ]
     },
     "execution_count": 11,
     "metadata": {},
     "output_type": "execute_result"
    }
   ],
   "source": [
    "results"
   ]
  },
  {
   "cell_type": "markdown",
   "metadata": {},
   "source": [
    "This workflow is translated into the single method nsp_workflow and stored in the Routines.py"
   ]
  },
  {
   "cell_type": "code",
   "execution_count": null,
   "metadata": {},
   "outputs": [],
   "source": []
  }
 ],
 "metadata": {
  "kernelspec": {
   "display_name": "Python 2",
   "language": "python",
   "name": "python2"
  },
  "language_info": {
   "codemirror_mode": {
    "name": "ipython",
    "version": 2
   },
   "file_extension": ".py",
   "mimetype": "text/x-python",
   "name": "python",
   "nbconvert_exporter": "python",
   "pygments_lexer": "ipython2",
   "version": "2.7.15rc1"
  }
 },
 "nbformat": 4,
 "nbformat_minor": 2
}
