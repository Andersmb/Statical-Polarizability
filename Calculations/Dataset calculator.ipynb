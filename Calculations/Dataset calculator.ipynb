{
 "cells": [
  {
   "cell_type": "code",
   "execution_count": 2,
   "metadata": {},
   "outputs": [],
   "source": [
    "from BigDFT import Datasets as D, Calculators as C, Inputfiles as I, Logfiles as lf\n",
    "from BigDFT.Database import Molecules\n",
    "from futile.Utils import write\n",
    "import numpy as np\n",
    "import matplotlib.pyplot as plt\n",
    "import os, sys, yaml\n",
    "sys.path.insert(0,'../')\n",
    "import StatPol as SP, Routines as R\n",
    "\n",
    "basepath = os.getcwd()"
   ]
  },
  {
   "cell_type": "markdown",
   "metadata": {},
   "source": [
    "## Analysis of the statical polarizability for the nsp dataset"
   ]
  },
  {
   "cell_type": "markdown",
   "metadata": {},
   "source": [
    "We read the nsp_dataset from file. Note that the file nsp_dataset.yaml contains only the reference results and the information on the allowed studies. So, to update the actual set of results with new computations we have to load\n",
    "the nsp_results.yaml. In this way the new computations performed will increase the dictionary. "
   ]
  },
  {
   "cell_type": "code",
   "execution_count": 3,
   "metadata": {},
   "outputs": [],
   "source": [
    "nsp_dataset = yaml.load(open('nsp_dataset.yaml'))\n",
    "#nsp_dataset = yaml.load(open('nsp_results.yaml'))\n",
    "#nsp_dataset"
   ]
  },
  {
   "cell_type": "markdown",
   "metadata": {},
   "source": [
    "For testing and computation purposes we split the dataset into several subset made of\n",
    "10 molecules each (molecules are sorted in alphabetical order before the splitting). So we have\n",
    "8 subsets (the last one with 5 molecules)"
   ]
  },
  {
   "cell_type": "code",
   "execution_count": 4,
   "metadata": {},
   "outputs": [
    {
     "name": "stdout",
     "output_type": "stream",
     "text": [
      "number of nsp elements  75\n"
     ]
    }
   ],
   "source": [
    "molecules = nsp_dataset.keys()\n",
    "molecules.sort()\n",
    "print 'number of nsp elements ', len(molecules)\n",
    "subset_length = 10\n",
    "\n",
    "subset = {}\n",
    "for ind in range(int(len(molecules)/subset_length)+1):\n",
    "    subset[ind] = []\n",
    "\n",
    "for ind,mol in enumerate(molecules):\n",
    "    subset[int(ind/subset_length)].append(mol)"
   ]
  },
  {
   "cell_type": "code",
   "execution_count": 5,
   "metadata": {},
   "outputs": [
    {
     "name": "stdout",
     "output_type": "stream",
     "text": [
      "0\n"
     ]
    }
   ],
   "source": [
    "computed_mol = []\n",
    "for mol,data in nsp_dataset.iteritems():\n",
    "    if 'results' in data:\n",
    "        computed_mol.append(mol)\n",
    "computed_mol.sort()\n",
    "print len(computed_mol)\n",
    "#computed_mol"
   ]
  },
  {
   "cell_type": "code",
   "execution_count": 7,
   "metadata": {},
   "outputs": [
    {
     "data": {
      "text/plain": [
       "['AlF', 'Ar', 'BF', 'BH2Cl', 'BH2F', 'BH3', 'BHF2', 'BeH2', 'C2H2', 'C2H4']"
      ]
     },
     "execution_count": 7,
     "metadata": {},
     "output_type": "execute_result"
    }
   ],
   "source": [
    "subset[0]"
   ]
  },
  {
   "cell_type": "markdown",
   "metadata": {},
   "source": [
    "We also define a reduced set of studies (pbe0 is not computed in this moment)"
   ]
  },
  {
   "cell_type": "code",
   "execution_count": 9,
   "metadata": {},
   "outputs": [],
   "source": [
    "reduced_study_set = [('lda_pt','hgh_k'),('lda_pw','hgh_k'),('pbe','hgh_k'),\\\n",
    "                     ('pbe','nlcc_aw'),('pbe','nlcc_ss')] #('pbe0','hgh_k')"
   ]
  },
  {
   "cell_type": "markdown",
   "metadata": {},
   "source": [
    "Run the nsp_worflow for the nsp_dataset. For each molecule we add the key 'results'. This key contain the results, for all the allowed studies. "
   ]
  },
  {
   "cell_type": "code",
   "execution_count": 10,
   "metadata": {
    "scrolled": false
   },
   "outputs": [
    {
     "name": "stdout",
     "output_type": "stream",
     "text": [
      "/home/marco/Data/RICERCA/DFT AND MANY BODY/LR MOLECULES/Statical polarizability/Analysis/Calculations\n",
      "Initialize a Calculator with OMP_NUM_THREADS=2 and command mpirun -np 4 /home/marco/Applications/BigDFT/binaries/v1.8.3/install/bin/bigdft\n",
      "Compute alpha for :  CO lda_pt hgh_k\n",
      "Seek for gs convergence\n",
      "Perform the run with rmult 3.0\n",
      "Creating the yaml input file \"lda_pt-hgh_k/rmult:3.0.yaml\"\n",
      "Run directory lda_pt-hgh_k\n",
      "Executing command:  mpirun -np 4 /home/marco/Applications/BigDFT/binaries/v1.8.3/install/bin/bigdft -n rmult:3.0 -s Yes\n",
      "Perform the run with rmult 4.0\n",
      "Creating the yaml input file \"lda_pt-hgh_k/rmult:4.0.yaml\"\n",
      "Run directory lda_pt-hgh_k\n",
      "Executing command:  mpirun -np 4 /home/marco/Applications/BigDFT/binaries/v1.8.3/install/bin/bigdft -n rmult:4.0 -s Yes\n",
      "Convergence for rmult 3.0 failed\n",
      "Perform the run with rmult 5.0\n",
      "Creating the yaml input file \"lda_pt-hgh_k/rmult:5.0.yaml\"\n",
      "Run directory lda_pt-hgh_k\n",
      "Executing command:  mpirun -np 4 /home/marco/Applications/BigDFT/binaries/v1.8.3/install/bin/bigdft -n rmult:5.0 -s Yes\n",
      "Convergence for rmult 4.0 failed\n",
      "Perform the run with rmult 6.0\n",
      "Creating the yaml input file \"lda_pt-hgh_k/rmult:6.0.yaml\"\n",
      "Run directory lda_pt-hgh_k\n",
      "Executing command:  mpirun -np 4 /home/marco/Applications/BigDFT/binaries/v1.8.3/install/bin/bigdft -n rmult:6.0 -s Yes\n",
      "Convergence achieved for rmult 5.0\n",
      "Seek for alpha convergence\n",
      "Convergence on the field intensity\n",
      "Perform the run with field_int 0.01\n",
      "Perform the run with field_int 0.005\n",
      "Convergence achieved for field_int 0.01\n",
      "Convergence on rmult\n",
      "Perform the run with rmult 5.0\n",
      "Perform the run with rmult 6.0\n",
      "Convergence for rmult 5.0 failed\n",
      "Perform the run with rmult 7.0\n",
      "Convergence achieved for rmult 6.0\n",
      "\n",
      "Compute alpha for :  CO lda_pw hgh_k\n",
      "Seek for gs convergence\n",
      "Perform the run with rmult 3.0\n",
      "Creating the yaml input file \"lda_pw-hgh_k/rmult:3.0.yaml\"\n",
      "Run directory lda_pw-hgh_k\n",
      "Executing command:  mpirun -np 4 /home/marco/Applications/BigDFT/binaries/v1.8.3/install/bin/bigdft -n rmult:3.0 -s Yes\n",
      "Perform the run with rmult 4.0\n",
      "Creating the yaml input file \"lda_pw-hgh_k/rmult:4.0.yaml\"\n",
      "Run directory lda_pw-hgh_k\n",
      "Executing command:  mpirun -np 4 /home/marco/Applications/BigDFT/binaries/v1.8.3/install/bin/bigdft -n rmult:4.0 -s Yes\n",
      "Convergence for rmult 3.0 failed\n",
      "Perform the run with rmult 5.0\n",
      "Creating the yaml input file \"lda_pw-hgh_k/rmult:5.0.yaml\"\n",
      "Run directory lda_pw-hgh_k\n",
      "Executing command:  mpirun -np 4 /home/marco/Applications/BigDFT/binaries/v1.8.3/install/bin/bigdft -n rmult:5.0 -s Yes\n",
      "Convergence for rmult 4.0 failed\n",
      "Perform the run with rmult 6.0\n",
      "Creating the yaml input file \"lda_pw-hgh_k/rmult:6.0.yaml\"\n",
      "Run directory lda_pw-hgh_k\n",
      "Executing command:  mpirun -np 4 /home/marco/Applications/BigDFT/binaries/v1.8.3/install/bin/bigdft -n rmult:6.0 -s Yes\n",
      "Convergence for rmult 5.0 failed\n",
      "Perform the run with rmult 7.0\n",
      "Creating the yaml input file \"lda_pw-hgh_k/rmult:7.0.yaml\"\n",
      "Run directory lda_pw-hgh_k\n",
      "Executing command:  mpirun -np 4 /home/marco/Applications/BigDFT/binaries/v1.8.3/install/bin/bigdft -n rmult:7.0 -s Yes\n",
      "Convergence achieved for rmult 6.0\n",
      "Seek for alpha convergence\n",
      "Convergence on the field intensity\n",
      "Perform the run with field_int 0.01\n",
      "Perform the run with field_int 0.005\n",
      "Convergence for field_int 0.01 failed\n",
      "Perform the run with field_int 0.001\n",
      "Convergence achieved for field_int 0.005\n",
      "Convergence on rmult\n",
      "Perform the run with rmult 6.0\n",
      "Perform the run with rmult 7.0\n",
      "Convergence for rmult 6.0 failed\n",
      "Perform the run with rmult 8.0\n",
      "Convergence for rmult 7.0 failed\n",
      "Perform the run with rmult 9.0\n",
      "Convergence for rmult 8.0 failed\n",
      "Perform the run with rmult 10.0\n",
      "Convergence for rmult 9.0 failed\n",
      "Perform the run with rmult 11.0\n",
      "Convergence achieved for rmult 10.0\n",
      "\n",
      "Compute alpha for :  CO pbe hgh_k\n",
      "Seek for gs convergence\n",
      "Perform the run with rmult 3.0\n",
      "Creating the yaml input file \"pbe-hgh_k/rmult:3.0.yaml\"\n",
      "Run directory pbe-hgh_k\n",
      "Executing command:  mpirun -np 4 /home/marco/Applications/BigDFT/binaries/v1.8.3/install/bin/bigdft -n rmult:3.0 -s Yes\n",
      "Perform the run with rmult 4.0\n",
      "Creating the yaml input file \"pbe-hgh_k/rmult:4.0.yaml\"\n",
      "Run directory pbe-hgh_k\n",
      "Executing command:  mpirun -np 4 /home/marco/Applications/BigDFT/binaries/v1.8.3/install/bin/bigdft -n rmult:4.0 -s Yes\n",
      "Convergence for rmult 3.0 failed\n",
      "Perform the run with rmult 5.0\n",
      "Creating the yaml input file \"pbe-hgh_k/rmult:5.0.yaml\"\n",
      "Run directory pbe-hgh_k\n",
      "Executing command:  mpirun -np 4 /home/marco/Applications/BigDFT/binaries/v1.8.3/install/bin/bigdft -n rmult:5.0 -s Yes\n",
      "Convergence for rmult 4.0 failed\n",
      "Perform the run with rmult 6.0\n",
      "Creating the yaml input file \"pbe-hgh_k/rmult:6.0.yaml\"\n",
      "Run directory pbe-hgh_k\n",
      "Executing command:  mpirun -np 4 /home/marco/Applications/BigDFT/binaries/v1.8.3/install/bin/bigdft -n rmult:6.0 -s Yes\n",
      "Convergence achieved for rmult 5.0\n",
      "Seek for alpha convergence\n",
      "Convergence on the field intensity\n",
      "Perform the run with field_int 0.01\n",
      "Perform the run with field_int 0.005\n",
      "Convergence achieved for field_int 0.01\n",
      "Convergence on rmult\n",
      "Perform the run with rmult 5.0\n",
      "Perform the run with rmult 6.0\n",
      "Convergence for rmult 5.0 failed\n",
      "Perform the run with rmult 7.0\n",
      "Convergence achieved for rmult 6.0\n",
      "\n",
      "Compute alpha for :  CO pbe nlcc_aw\n",
      "Seek for gs convergence\n",
      "Perform the run with rmult 3.0\n",
      "Creating the yaml input file \"pbe-nlcc_aw/rmult:3.0.yaml\"\n",
      "Run directory pbe-nlcc_aw\n",
      "Executing command:  mpirun -np 4 /home/marco/Applications/BigDFT/binaries/v1.8.3/install/bin/bigdft -n rmult:3.0 -s Yes\n",
      "Perform the run with rmult 4.0\n",
      "Creating the yaml input file \"pbe-nlcc_aw/rmult:4.0.yaml\"\n",
      "Run directory pbe-nlcc_aw\n",
      "Executing command:  mpirun -np 4 /home/marco/Applications/BigDFT/binaries/v1.8.3/install/bin/bigdft -n rmult:4.0 -s Yes\n",
      "Convergence for rmult 3.0 failed\n",
      "Perform the run with rmult 5.0\n",
      "Creating the yaml input file \"pbe-nlcc_aw/rmult:5.0.yaml\"\n",
      "Run directory pbe-nlcc_aw\n",
      "Executing command:  mpirun -np 4 /home/marco/Applications/BigDFT/binaries/v1.8.3/install/bin/bigdft -n rmult:5.0 -s Yes\n",
      "Convergence for rmult 4.0 failed\n",
      "Perform the run with rmult 6.0\n",
      "Creating the yaml input file \"pbe-nlcc_aw/rmult:6.0.yaml\"\n",
      "Run directory pbe-nlcc_aw\n",
      "Executing command:  mpirun -np 4 /home/marco/Applications/BigDFT/binaries/v1.8.3/install/bin/bigdft -n rmult:6.0 -s Yes\n",
      "Convergence achieved for rmult 5.0\n",
      "Seek for alpha convergence\n",
      "Convergence on the field intensity\n",
      "Perform the run with field_int 0.01\n",
      "Perform the run with field_int 0.005\n",
      "Convergence achieved for field_int 0.01\n",
      "Convergence on rmult\n",
      "Perform the run with rmult 5.0\n",
      "Perform the run with rmult 6.0\n",
      "Convergence for rmult 5.0 failed\n",
      "Perform the run with rmult 7.0\n",
      "Convergence achieved for rmult 6.0\n",
      "\n"
     ]
    }
   ],
   "source": [
    "reload(R)\n",
    "code=C.SystemCalculator(omp=2,mpi_run='mpirun -np 4',skip=True)\n",
    "\n",
    "for mol in ['CO']: #subset[0]:\n",
    "    data = nsp_dataset[mol]\n",
    "    data['results'] = {}\n",
    "    for study in data['study']:\n",
    "        if study in reduced_study_set:\n",
    "            data['results'][study] = {}\n",
    "            data['results'][study] = R.nsp_workflow(term_verb=True,molecule=mol,study=study,code=code)\n",
    "            print ''"
   ]
  },
  {
   "cell_type": "code",
   "execution_count": 17,
   "metadata": {},
   "outputs": [
    {
     "data": {
      "text/plain": [
       "13.710287999999998"
      ]
     },
     "execution_count": 17,
     "metadata": {},
     "output_type": "execute_result"
    }
   ],
   "source": [
    "r = nsp_dataset['CO']['results']['lda_pt','hgh_k']['rmult_conv']['converged_value']\n",
    "SP.eval_alpha_avg(nsp_dataset['CO']['results']['lda_pt','hgh_k']['rmult_conv']['results'][r])"
   ]
  },
  {
   "cell_type": "code",
   "execution_count": 18,
   "metadata": {},
   "outputs": [
    {
     "data": {
      "text/plain": [
       "40.577220000000004"
      ]
     },
     "execution_count": 18,
     "metadata": {},
     "output_type": "execute_result"
    }
   ],
   "source": [
    "r = nsp_dataset['CO']['results']['lda_pw','hgh_k']['rmult_conv']['converged_value']\n",
    "SP.eval_alpha_avg(nsp_dataset['CO']['results']['lda_pw','hgh_k']['rmult_conv']['results'][r])"
   ]
  },
  {
   "cell_type": "markdown",
   "metadata": {},
   "source": [
    "Save the dataset as yaml file"
   ]
  },
  {
   "cell_type": "code",
   "execution_count": 10,
   "metadata": {},
   "outputs": [],
   "source": [
    "import yaml\n",
    "with open('nsp_results.yaml', 'w') as outfile:\n",
    "    yaml.dump(nsp_dataset, outfile, default_flow_style=False)"
   ]
  },
  {
   "cell_type": "markdown",
   "metadata": {},
   "source": [
    "## Analysis of the statical polarizability for the sp dataset"
   ]
  },
  {
   "cell_type": "markdown",
   "metadata": {},
   "source": [
    "....TO BE DONE...."
   ]
  },
  {
   "cell_type": "code",
   "execution_count": null,
   "metadata": {},
   "outputs": [],
   "source": []
  }
 ],
 "metadata": {
  "kernelspec": {
   "display_name": "Python 2",
   "language": "python",
   "name": "python2"
  },
  "language_info": {
   "codemirror_mode": {
    "name": "ipython",
    "version": 2
   },
   "file_extension": ".py",
   "mimetype": "text/x-python",
   "name": "python",
   "nbconvert_exporter": "python",
   "pygments_lexer": "ipython2",
   "version": "2.7.15rc1"
  }
 },
 "nbformat": 4,
 "nbformat_minor": 2
}
